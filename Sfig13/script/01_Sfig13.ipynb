{
 "cells": [
  {
   "cell_type": "code",
   "execution_count": 11,
   "metadata": {},
   "outputs": [],
   "source": [
    "from __future__ import division\n",
    "import matplotlib\n",
    "from pylab import *\n",
    "import matplotlib.pyplot as plt\n",
    "from scipy.optimize import curve_fit\n",
    "from scipy.stats import linregress\n",
    "from scipy.signal import argrelextrema\n",
    "import numpy as np\n",
    "import pandas as pd\n",
    "import random\n",
    "import math\n",
    "\n",
    "from lmfit import minimize, Parameters, Parameter, report_fit\n",
    "from scipy.integrate import odeint\n",
    "\n",
    "import scipy\n",
    "import scipy.io as sio"
   ]
  },
  {
   "cell_type": "code",
   "execution_count": 12,
   "metadata": {},
   "outputs": [],
   "source": [
    "kan_ = np.array([65,66,82])\n",
    "all_ = np.array([80,64,70])"
   ]
  },
  {
   "cell_type": "code",
   "execution_count": 13,
   "metadata": {},
   "outputs": [
    {
     "name": "stdout",
     "output_type": "stream",
     "text": [
      "99.79914109811696\n",
      "8.237860256167249\n"
     ]
    }
   ],
   "source": [
    "N = 10000; \n",
    "ratio = np.zeros(N); \n",
    "for i in range(N):\n",
    "    a = np.random.choice(kan_, 3)\n",
    "    b = np.random.choice(all_, 3)\n",
    "    ratio[i] = np.mean(a)/np.mean(b)*100;\n",
    "print(np.mean(ratio))\n",
    "print(np.std(ratio))"
   ]
  },
  {
   "cell_type": "code",
   "execution_count": 14,
   "metadata": {},
   "outputs": [
    {
     "data": {
      "text/plain": [
       "0.9953271028037384"
      ]
     },
     "execution_count": 14,
     "metadata": {},
     "output_type": "execute_result"
    }
   ],
   "source": [
    "np.mean(kan_)/np.mean(all_)"
   ]
  },
  {
   "cell_type": "code",
   "execution_count": 15,
   "metadata": {},
   "outputs": [
    {
     "data": {
      "image/png": "[encoded data removed]",
      "text/plain": [
       "<Figure size 104.4x104.4 with 1 Axes>"
      ]
     },
     "metadata": {
      "needs_background": "light"
     },
     "output_type": "display_data"
    }
   ],
   "source": [
    "fontSize=7\n",
    "matplotlib.rcParams.update({\"axes.formatter.limits\": (-4,4),'font.family':'Arial','font.size': fontSize, \"axes.titlesize\": fontSize, \"xtick.labelsize\": fontSize, \"ytick.labelsize\": fontSize,})\n",
    "matplotlib.rcParams.update({\"figure.figsize\": (1.45,1.45)})\n",
    "ax = plt.subplot(1,1,1)\n",
    "\n",
    "df=pd.read_csv('../data/TECAN_230708.csv',delimiter=',',index_col=0)  \n",
    "\n",
    "xdata = df.to_numpy()[0]/60;\n",
    "\n",
    "ydata1 = df.loc['C7'].to_numpy()\n",
    "ydata2 = df.loc['C8'].to_numpy()\n",
    "ydata3 = df.loc['F7'].to_numpy()\n",
    "ydata4 = df.loc['F8'].to_numpy()\n",
    "\n",
    "ymean = (ydata3+ydata4)/2; \n",
    "\n",
    "    \n",
    "for j in ['D3']:\n",
    "    x_=(xdata[6:] - xdata[6])/60;\n",
    "    y_=df.loc[j].to_numpy()[6:] -ymean[6:];\n",
    "    \n",
    "    plt.plot(x_,y_,color='k')\n",
    "    plt.scatter(x_[32], y_[32],color='tab:red',alpha=0.5)    \n",
    "plt.xlabel('Time after infection (h)')\n",
    "plt.ylabel('OD')\n",
    "plt.xlim(0,6)\n",
    "plt.ylim(0,0.5)\n",
    "ax.spines['top'].set_visible(False)\n",
    "ax.spines['right'].set_visible(False)\n",
    "ax.tick_params(axis=\"y\",direction=\"in\")\n",
    "ax.tick_params(axis=\"x\",direction=\"in\")\n",
    "plt.savefig('../output/Sfig13a.pdf', format='pdf', bbox_inches='tight')"
   ]
  },
  {
   "cell_type": "code",
   "execution_count": 19,
   "metadata": {},
   "outputs": [],
   "source": [
    "import xlsxwriter\n",
    "\n",
    "# Create a workbook and add a worksheet.\n",
    "workbook = xlsxwriter.Workbook(\"../output/Sfig13a.xlsx\")\n",
    "writer = pd.ExcelWriter(\"../output/Sfig13a.xlsx\", engine = 'xlsxwriter')\n",
    "\n",
    "df=pd.read_csv('../data/TECAN_230708.csv',delimiter=',',index_col=0)  \n",
    "\n",
    "xdata = df.to_numpy()[0]/60;\n",
    "ydata1 = df.loc['C7'].to_numpy()\n",
    "ydata2 = df.loc['C8'].to_numpy()\n",
    "ydata3 = df.loc['F7'].to_numpy()\n",
    "ydata4 = df.loc['F8'].to_numpy()\n",
    "\n",
    "ymean = (ydata3+ydata4)/2; \n",
    "\n",
    "j = 'D3';\n",
    "x_=(xdata[6:] - xdata[6])/60;\n",
    "y_=df.loc[j].to_numpy()[6:] -ymean[6:];\n",
    "\n",
    "data_tmptmp = pd.DataFrame();\n",
    "data_tmptmp['Time (h)'] = x_;\n",
    "data_tmptmp['OD'] = y_; \n",
    "data_tmptmp = data_tmptmp.T\n",
    "data_tmptmp.to_excel(writer, sheet_name = 'Sfig13a')   \n",
    "\n",
    "writer.close()"
   ]
  },
  {
   "cell_type": "code",
   "execution_count": 24,
   "metadata": {},
   "outputs": [
    {
     "data": {
      "image/png": "[encoded data removed]",
      "text/plain": [
       "<Figure size 104.4x104.4 with 1 Axes>"
      ]
     },
     "metadata": {
      "needs_background": "light"
     },
     "output_type": "display_data"
    }
   ],
   "source": [
    "kan_ = np.array([65,66,82])*4e4*10; \n",
    "all_ = np.array([80,64,70])*4e4*10; \n",
    "\n",
    "fontSize=7\n",
    "matplotlib.rcParams.update({\"axes.formatter.limits\": (-4,4),'font.family':'Arial','font.size': fontSize, \"axes.titlesize\": fontSize, \"xtick.labelsize\": fontSize, \"ytick.labelsize\": fontSize,})\n",
    "matplotlib.rcParams.update({\"figure.figsize\": (1.45,1.45)})\n",
    "ax = plt.subplot(1,1,1)\n",
    "\n",
    "#plt.bar(np.arange(1,3,1), np.array([np.mean(all_), np.mean(kan_)]))\n",
    "plt.bar(np.arange(1,3,1), \\\n",
    "             np.array([np.mean(all_), np.mean(kan_)]), \\\n",
    "             yerr=np.array([np.std(all_), np.std(kan_)]),\\\n",
    "        capsize=3,\n",
    "       color=['gray','tab:red']) \n",
    "plt.xticks([1,2],['LB','LB+Kan'])\n",
    "plt.xlim((0,3))\n",
    "plt.ylabel('CFU/mL')\n",
    "\n",
    "ax.spines['top'].set_visible(False)\n",
    "ax.spines['right'].set_visible(False)\n",
    "ax.tick_params(axis=\"y\",direction=\"in\")\n",
    "ax.tick_params(axis=\"x\",direction=\"in\")\n",
    "plt.savefig('../output/Sfig13b.pdf', format='pdf', bbox_inches='tight')"
   ]
  },
  {
   "cell_type": "code",
   "execution_count": 26,
   "metadata": {},
   "outputs": [],
   "source": [
    "import xlsxwriter\n",
    "\n",
    "# Create a workbook and add a worksheet.\n",
    "workbook = xlsxwriter.Workbook(\"../output/Sfig13b.xlsx\")\n",
    "writer = pd.ExcelWriter(\"../output/Sfig13b.xlsx\", engine = 'xlsxwriter')\n",
    "\n",
    "data_tmptmp = pd.DataFrame();\n",
    "data_tmptmp['LB'] = [np.mean(all_), np.std(all_)];\n",
    "data_tmptmp['LB+Kan'] = [np.mean(kan_), np.std(kan_)];\n",
    "data_tmptmp = data_tmptmp.T\n",
    "data_tmptmp.to_excel(writer, sheet_name = 'Sfig13b')   \n",
    "\n",
    "writer.close()"
   ]
  },
  {
   "cell_type": "code",
   "execution_count": null,
   "metadata": {},
   "outputs": [],
   "source": []
  }
 ],
 "metadata": {
  "kernelspec": {
   "display_name": "Python 3",
   "language": "python",
   "name": "python3"
  },
  "language_info": {
   "codemirror_mode": {
    "name": "ipython",
    "version": 3
   },
   "file_extension": ".py",
   "mimetype": "text/x-python",
   "name": "python",
   "nbconvert_exporter": "python",
   "pygments_lexer": "ipython3",
   "version": "3.8.5"
  }
 },
 "nbformat": 4,
 "nbformat_minor": 4
}
