{
 "cells": [
  {
   "cell_type": "code",
   "execution_count": 2,
   "metadata": {},
   "outputs": [],
   "source": [
    "from __future__ import division\n",
    "import matplotlib\n",
    "from pylab import *\n",
    "import matplotlib.pyplot as plt\n",
    "from scipy.optimize import curve_fit\n",
    "from scipy.stats import linregress\n",
    "from scipy.signal import argrelextrema\n",
    "import numpy as np\n",
    "import pandas as pd\n",
    "import math\n",
    "from ddeint import ddeint\n",
    "import copy"
   ]
  },
  {
   "cell_type": "markdown",
   "metadata": {},
   "source": [
    "# 1 Load data"
   ]
  },
  {
   "cell_type": "code",
   "execution_count": 3,
   "metadata": {},
   "outputs": [],
   "source": [
    "import scipy\n",
    "import scipy.io as sio\n"
   ]
  },
  {
   "cell_type": "code",
   "execution_count": 6,
   "metadata": {},
   "outputs": [],
   "source": [
    "df=pd.read_csv('../data/TECAN_230119.csv',delimiter=',',index_col=0)  \n",
    "\n",
    "ydata1 = df.loc['E7'].to_numpy()\n",
    "ydata2 = df.loc['E8'].to_numpy()\n",
    "ydata3 = df.loc['F7'].to_numpy()\n",
    "ydata4 = df.loc['F8'].to_numpy()\n",
    "\n",
    "ymean = (ydata2+ydata4)/2; \n",
    "\n",
    "df_2903 = pd.DataFrame(columns=df.columns); \n",
    "for i in ['A','B','C','D','E','F']:\n",
    "    for j in np.arange(1,9,1):\n",
    "        idx_ = i+str(j)\n",
    "        df_2903.loc[idx_] = df.loc[idx_] - ymean;\n",
    "df_2903.loc['Time'] = df.iloc[0]/60"
   ]
  },
  {
   "cell_type": "code",
   "execution_count": 21,
   "metadata": {},
   "outputs": [],
   "source": [
    "df=pd.read_csv('../data/TECAN_230628.csv',delimiter=',',index_col=0)  \n",
    "\n",
    "ydata1 = df.loc['C7'].to_numpy()\n",
    "ydata2 = df.loc['C8'].to_numpy()\n",
    "ydata3 = df.loc['F7'].to_numpy()\n",
    "ydata4 = df.loc['F8'].to_numpy()\n",
    "\n",
    "ymean = (ydata1+ydata4)/2; \n",
    "\n",
    "df_T5 = pd.DataFrame(columns=df.columns); \n",
    "for i in ['A','B','C']:\n",
    "    for j in np.arange(1,9,1):\n",
    "        idx_ = i+str(j)\n",
    "        df_T5.loc[idx_] = df.loc[idx_] - ymean;\n",
    "df_T5.loc['Time'] = df.iloc[0]/60\n",
    "\n",
    "\n",
    "#05_precision_and_accuracy_v2_T5 [6]"
   ]
  },
  {
   "cell_type": "code",
   "execution_count": 22,
   "metadata": {},
   "outputs": [],
   "source": [
    "df=pd.read_csv('../data/TECAN_230629.csv',delimiter=',',index_col=0)  \n",
    "\n",
    "ydata1 = df.loc['C7'].to_numpy()\n",
    "ydata2 = df.loc['C8'].to_numpy()\n",
    "ymean = np.repeat(np.median((ydata1+ydata2)/2), len(ydata1)); \n",
    "\n",
    "df_T4 = pd.DataFrame(columns=df.columns); \n",
    "for i in ['A','B','C']:\n",
    "    for j in np.arange(1,9,1):\n",
    "        idx_ = i+str(j)\n",
    "        df_T4.loc[idx_] = df.loc[idx_] - ymean;\n",
    "df_T4.loc['Time'] = df.iloc[0]/60"
   ]
  },
  {
   "cell_type": "markdown",
   "metadata": {},
   "source": [
    "# 2 Plot Sfig. 18"
   ]
  },
  {
   "cell_type": "code",
   "execution_count": 23,
   "metadata": {},
   "outputs": [
    {
     "data": {
      "image/png": "[encoded data removed]",
      "text/plain": [
       "<Figure size 259.2x93.6 with 3 Axes>"
      ]
     },
     "metadata": {
      "needs_background": "light"
     },
     "output_type": "display_data"
    }
   ],
   "source": [
    "fontSize=7\n",
    "matplotlib.rcParams.update({\"axes.formatter.limits\": (-4,4),'font.family':'Arial','font.size': fontSize, \"axes.titlesize\": fontSize, \"xtick.labelsize\": fontSize, \"ytick.labelsize\": fontSize,})\n",
    "matplotlib.rcParams['pdf.fonttype'] = 42\n",
    "matplotlib.rcParams['ps.fonttype'] = 42\n",
    "matplotlib.rcParams.update({\"figure.figsize\": (3*1.2,1.3)})\n",
    "\n",
    "\n",
    "ax = plt.subplot(1,3,1)\n",
    "df_tmp = df_2903;\n",
    "idx_2903 = 'A2'; #high!!!!!!!!!!!!!\n",
    "\n",
    "xdata_ = df_tmp.loc['Time']/60  ; #hour\n",
    "ydata_ = df_tmp.loc[idx_2903];\n",
    "\n",
    "plt.plot(xdata_[7:] - xdata_[7], ydata_[7:],'-',linewidth=1,color='k',linestyle='-',zorder=15)\n",
    "\n",
    "plt.title('$\\lambda_{ts}$')\n",
    "plt.xlabel('Time after infection (h)')\n",
    "plt.ylabel('OD')\n",
    "plt.yscale('log')\n",
    "plt.xlim((0,1200/60))\n",
    "plt.ylim((1e-3,2))\n",
    "    \n",
    "ax.spines['top'].set_visible(False)\n",
    "ax.spines['right'].set_visible(False)\n",
    "ax.tick_params(axis=\"y\",direction=\"in\")\n",
    "ax.tick_params(axis=\"x\",direction=\"in\")\n",
    "plt.minorticks_off()\n",
    "\n",
    "######################################\n",
    "ax = plt.subplot(1,3,2)\n",
    "\n",
    "df_tmp = df_T4;\n",
    "idx_2903 = 'A4'; #high!!!!!!!!!!!!!\n",
    "\n",
    "xdata_ = df_tmp.loc['Time']/60  ; #hour\n",
    "ydata_ = df_tmp.loc[idx_2903];\n",
    "plt.plot(xdata_[6:] - xdata_[6], ydata_[6:],'-',linewidth=1,color='k',linestyle='-',zorder=15)\n",
    "\n",
    "plt.title('T4')\n",
    "plt.xlabel('Time after infection (h)')\n",
    "#plt.ylabel('OD')\n",
    "plt.yscale('log')\n",
    "plt.xlim((0,1200/60))\n",
    "plt.ylim((1e-3,2))\n",
    "    \n",
    "ax.spines['top'].set_visible(False)\n",
    "ax.spines['right'].set_visible(False)\n",
    "ax.tick_params(axis=\"y\",direction=\"in\")\n",
    "ax.tick_params(axis=\"x\",direction=\"in\")\n",
    "plt.minorticks_off()\n",
    "\n",
    "######################################\n",
    "ax = plt.subplot(1,3,3)\n",
    "\n",
    "df_tmp = df_T5;\n",
    "idx_2903 = 'A3'; #high!!!!!!!!!!!!!\n",
    "\n",
    "xdata_ = df_tmp.loc['Time']/60  ; #hour\n",
    "ydata_ = df_tmp.loc[idx_2903];\n",
    "plt.plot(xdata_[6:] - xdata_[6], ydata_[6:],'-',linewidth=1,color='k',linestyle='-',zorder=15)\n",
    "\n",
    "plt.title('T5')\n",
    "plt.xlabel('Time after infection (h)')\n",
    "#plt.ylabel('OD')\n",
    "plt.yscale('log')\n",
    "plt.xlim((0,1200/60))\n",
    "plt.ylim((1e-3,2))\n",
    "    \n",
    "ax.spines['top'].set_visible(False)\n",
    "ax.spines['right'].set_visible(False)\n",
    "ax.tick_params(axis=\"y\",direction=\"in\")\n",
    "ax.tick_params(axis=\"x\",direction=\"in\")\n",
    "plt.minorticks_off()\n",
    "\n",
    "plt.tight_layout()\n",
    "\n",
    "#plt.savefig('fppt_future.pdf', format='pdf', bbox_inches='tight')\n",
    "plt.savefig('../output/Sfig18.pdf', format='pdf', bbox_inches='tight')"
   ]
  },
  {
   "cell_type": "markdown",
   "metadata": {},
   "source": [
    "## Exporting source data"
   ]
  },
  {
   "cell_type": "code",
   "execution_count": 29,
   "metadata": {},
   "outputs": [
    {
     "data": {
      "image/png": "[encoded data removed]",
      "text/plain": [
       "<Figure size 259.2x93.6 with 3 Axes>"
      ]
     },
     "metadata": {
      "needs_background": "light"
     },
     "output_type": "display_data"
    }
   ],
   "source": [
    "import xlsxwriter\n",
    "\n",
    "# Create a workbook and add a worksheet.\n",
    "workbook = xlsxwriter.Workbook(\"../output/Sfig18.xlsx\")\n",
    "writer = pd.ExcelWriter(\"../output/Sfig18.xlsx\", engine = 'xlsxwriter')\n",
    "\n",
    "fontSize=7\n",
    "matplotlib.rcParams.update({\"axes.formatter.limits\": (-4,4),'font.family':'Arial','font.size': fontSize, \"axes.titlesize\": fontSize, \"xtick.labelsize\": fontSize, \"ytick.labelsize\": fontSize,})\n",
    "matplotlib.rcParams['pdf.fonttype'] = 42\n",
    "matplotlib.rcParams['ps.fonttype'] = 42\n",
    "matplotlib.rcParams.update({\"figure.figsize\": (3*1.2,1.3)})\n",
    "\n",
    "\n",
    "ax = plt.subplot(1,3,1)\n",
    "df_tmp = df_2903;\n",
    "idx_2903 = 'A2'; #high!!!!!!!!!!!!!\n",
    "\n",
    "xdata_ = df_tmp.loc['Time']/60  ; #hour\n",
    "ydata_ = df_tmp.loc[idx_2903];\n",
    "\n",
    "dftmptmp = df_tmp.loc[['Time',idx_2903]]\n",
    "dftmptmp.to_excel(writer, sheet_name = 'lambda_ts')\n",
    "\n",
    "\n",
    "plt.plot(xdata_[7:] - xdata_[7], ydata_[7:],'-',linewidth=1,color='k',linestyle='-',zorder=15)\n",
    "\n",
    "plt.title('$\\lambda_{ts}$')\n",
    "plt.xlabel('Time after infection (h)')\n",
    "plt.ylabel('OD')\n",
    "plt.yscale('log')\n",
    "plt.xlim((0,1200/60))\n",
    "plt.ylim((1e-3,2))\n",
    "    \n",
    "ax.spines['top'].set_visible(False)\n",
    "ax.spines['right'].set_visible(False)\n",
    "ax.tick_params(axis=\"y\",direction=\"in\")\n",
    "ax.tick_params(axis=\"x\",direction=\"in\")\n",
    "plt.minorticks_off()\n",
    "\n",
    "######################################\n",
    "ax = plt.subplot(1,3,2)\n",
    "\n",
    "df_tmp = df_T4;\n",
    "idx_2903 = 'A4'; #high!!!!!!!!!!!!!\n",
    "\n",
    "xdata_ = df_tmp.loc['Time']/60  ; #hour\n",
    "ydata_ = df_tmp.loc[idx_2903];\n",
    "\n",
    "dftmptmp = df_tmp.loc[['Time',idx_2903]]\n",
    "dftmptmp.to_excel(writer, sheet_name = 'T4')\n",
    "    \n",
    "plt.plot(xdata_[6:] - xdata_[6], ydata_[6:],'-',linewidth=1,color='k',linestyle='-',zorder=15)\n",
    "\n",
    "plt.title('T4')\n",
    "plt.xlabel('Time after infection (h)')\n",
    "#plt.ylabel('OD')\n",
    "plt.yscale('log')\n",
    "plt.xlim((0,1200/60))\n",
    "plt.ylim((1e-3,2))\n",
    "    \n",
    "ax.spines['top'].set_visible(False)\n",
    "ax.spines['right'].set_visible(False)\n",
    "ax.tick_params(axis=\"y\",direction=\"in\")\n",
    "ax.tick_params(axis=\"x\",direction=\"in\")\n",
    "plt.minorticks_off()\n",
    "\n",
    "######################################\n",
    "ax = plt.subplot(1,3,3)\n",
    "\n",
    "df_tmp = df_T5;\n",
    "idx_2903 = 'A3'; #high!!!!!!!!!!!!!\n",
    "\n",
    "xdata_ = df_tmp.loc['Time']/60  ; #hour\n",
    "ydata_ = df_tmp.loc[idx_2903];\n",
    "\n",
    "dftmptmp = df_tmp.loc[['Time',idx_2903]]\n",
    "dftmptmp.to_excel(writer, sheet_name = 'T5')\n",
    "    \n",
    "plt.plot(xdata_[6:] - xdata_[6], ydata_[6:],'-',linewidth=1,color='k',linestyle='-',zorder=15)\n",
    "\n",
    "plt.title('T5')\n",
    "plt.xlabel('Time after infection (h)')\n",
    "#plt.ylabel('OD')\n",
    "plt.yscale('log')\n",
    "plt.xlim((0,1200/60))\n",
    "plt.ylim((1e-3,2))\n",
    "    \n",
    "ax.spines['top'].set_visible(False)\n",
    "ax.spines['right'].set_visible(False)\n",
    "ax.tick_params(axis=\"y\",direction=\"in\")\n",
    "ax.tick_params(axis=\"x\",direction=\"in\")\n",
    "plt.minorticks_off()\n",
    "\n",
    "plt.tight_layout()\n",
    "\n",
    "#plt.savefig('fppt_future.pdf', format='pdf', bbox_inches='tight')\n",
    "#plt.savefig('../output/Sfig18.pdf', format='pdf', bbox_inches='tight')\n",
    "writer.close()"
   ]
  },
  {
   "cell_type": "code",
   "execution_count": null,
   "metadata": {},
   "outputs": [],
   "source": []
  }
 ],
 "metadata": {
  "kernelspec": {
   "display_name": "Python 3",
   "language": "python",
   "name": "python3"
  },
  "language_info": {
   "codemirror_mode": {
    "name": "ipython",
    "version": 3
   },
   "file_extension": ".py",
   "mimetype": "text/x-python",
   "name": "python",
   "nbconvert_exporter": "python",
   "pygments_lexer": "ipython3",
   "version": "3.8.5"
  }
 },
 "nbformat": 4,
 "nbformat_minor": 4
}
