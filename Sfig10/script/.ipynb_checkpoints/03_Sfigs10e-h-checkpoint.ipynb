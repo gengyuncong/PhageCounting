{
 "cells": [
  {
   "cell_type": "code",
   "execution_count": 1,
   "metadata": {},
   "outputs": [],
   "source": [
    "from __future__ import division\n",
    "import matplotlib\n",
    "from pylab import *\n",
    "import matplotlib.pyplot as plt\n",
    "from scipy.optimize import curve_fit\n",
    "from scipy.stats import linregress\n",
    "from scipy.signal import argrelextrema\n",
    "import numpy as np\n",
    "import pandas as pd\n",
    "import math\n",
    "import copy\n",
    "\n",
    "import scipy\n",
    "import scipy.io as sio\n",
    "\n",
    "\n",
    "from lmfit import minimize, Parameters, Parameter, report_fit\n",
    "from scipy.integrate import odeint"
   ]
  },
  {
   "cell_type": "code",
   "execution_count": 2,
   "metadata": {},
   "outputs": [],
   "source": [
    "from __future__ import division\n",
    "import matplotlib\n",
    "from pylab import *\n",
    "import matplotlib.pyplot as plt\n",
    "from scipy.optimize import curve_fit\n",
    "from scipy.stats import linregress\n",
    "from scipy.signal import argrelextrema\n",
    "import numpy as np\n",
    "import pandas as pd\n",
    "import math\n",
    "import copy\n",
    "\n",
    "import scipy\n",
    "import scipy.io as sio\n",
    "\n",
    "\n",
    "from lmfit import minimize, Parameters, Parameter, report_fit\n",
    "from scipy.integrate import odeint"
   ]
  },
  {
   "cell_type": "code",
   "execution_count": 3,
   "metadata": {},
   "outputs": [],
   "source": [
    "from matplotlib.pyplot import cm\n",
    "colors=cm.rainbow(np.linspace(0,1,10))"
   ]
  },
  {
   "cell_type": "code",
   "execution_count": null,
   "metadata": {},
   "outputs": [],
   "source": []
  },
  {
   "cell_type": "markdown",
   "metadata": {},
   "source": [
    "# 1 Plot Sfigs10fh"
   ]
  },
  {
   "cell_type": "code",
   "execution_count": 4,
   "metadata": {},
   "outputs": [],
   "source": [
    "df_M9Glu = pd.read_csv('../tmp/csv/M9Glu_v0_cell_CI95.csv',delimiter=',',index_col=0) \n",
    "df_M9Glu2 = df_M9Glu.copy(deep=True)\n",
    "#df_M9Glu2 = df_M9Glu2.iloc[15000:,:3]\n",
    "df_M9Glu2.iloc[:,0] = df_M9Glu2.iloc[:,0]*1e9; "
   ]
  },
  {
   "cell_type": "code",
   "execution_count": 5,
   "metadata": {},
   "outputs": [
    {
     "name": "stdout",
     "output_type": "stream",
     "text": [
      "[6.96491263e-11 5.15905039e+02 1.03729227e+02]\n",
      "[7.84882923e-11 6.61731341e+02 1.09113944e+02]\n"
     ]
    }
   ],
   "source": [
    "print(np.min(df_M9Glu.to_numpy(),axis=0))\n",
    "print(np.max(df_M9Glu.to_numpy(),axis=0))"
   ]
  },
  {
   "cell_type": "code",
   "execution_count": 8,
   "metadata": {},
   "outputs": [
    {
     "data": {
      "image/png": "[encoded data removed]",
      "text/plain": [
       "<Figure size 144x144 with 1 Axes>"
      ]
     },
     "metadata": {
      "needs_background": "light"
     },
     "output_type": "display_data"
    }
   ],
   "source": [
    "import plotly.graph_objects as go\n",
    "import numpy as np\n",
    "\n",
    "d2 = df_M9Glu2; \n",
    "\n",
    "def function(data, a, b):\n",
    "    x = data[0]\n",
    "    y = data[1]\n",
    "    return a*(x + y) + b\n",
    "    \n",
    "popt, pcov = curve_fit(function, [np.log10(d2.iloc[:,0]), np.log10(d2.iloc[:,1])], d2.iloc[:,2])\n",
    "r_arr_ = np.logspace(-1.1,-1.2,10)\n",
    "B_arr_ = np.logspace(2.6,2.8,10);\n",
    "X, Y = np.meshgrid(r_arr_, B_arr_)\n",
    "Z = function(np.array([np.log10(X), np.log10(Y)]), *popt)\n",
    "\n",
    "fig = plt.figure()\n",
    "matplotlib.rcParams.update({\"figure.figsize\": (2.0,2.0)})\n",
    "ax = plt.axes(projection='3d')\n",
    "ax.scatter3D(np.log10(d2.iloc[:,0]), np.log10(d2.iloc[:,1]), d2.iloc[:,2], color='k',s=5);\n",
    "\n",
    "ax.plot_surface(np.log10(X), np.log10(Y), Z, color='k', alpha=0.1)\n",
    "ax.grid(False)\n",
    "ax.set_xlim((-1.1,-1.2))\n",
    "ax.set_ylim((2.6,2.8))\n",
    "ax.set_zlim(100,110)\n",
    "ax.view_init(-135, 120)\n",
    "ax.set_xlabel('log10(r)')\n",
    "ax.set_ylabel('log10(B)')\n",
    "ax.set_zlabel(r'$\\tau$')\n",
    "ax.set_zticks([100,110])\n",
    "ax.set_xticks([-1.1,-1.2])\n",
    "ax.set_yticks([2.6,2.8])\n",
    "plt.tight_layout()\n",
    "plt.savefig('../output/Sfig10f.pdf',format='pdf', bbox_inches='tight')\n",
    "#ax.set_xscale('log')\n",
    "#ax.set_yscale('log')"
   ]
  },
  {
   "cell_type": "code",
   "execution_count": 10,
   "metadata": {},
   "outputs": [],
   "source": [
    "import xlsxwriter\n",
    "\n",
    "# Create a workbook and add a worksheet.\n",
    "workbook = xlsxwriter.Workbook(\"../output/Sfig10f.xlsx\")\n",
    "writer = pd.ExcelWriter(\"../output/Sfig10f.xlsx\", engine = 'xlsxwriter')\n",
    "\n",
    "df_tmptmp = pd.DataFrame();\n",
    "df_tmptmp['log10(r)'] = np.log10(d2.iloc[:,0]);\n",
    "df_tmptmp['log10(B)'] = np.log10(d2.iloc[:,1]);\n",
    "df_tmptmp['tau']  = d2.iloc[:,2]\n",
    "df_tmptmp.to_excel(writer, sheet_name = 'Sfig10f')   \n",
    "\n",
    "writer.close()"
   ]
  },
  {
   "cell_type": "code",
   "execution_count": 11,
   "metadata": {},
   "outputs": [
    {
     "name": "stdout",
     "output_type": "stream",
     "text": [
      "0.014613632026198937\n"
     ]
    },
    {
     "data": {
      "image/png": "[encoded data removed]",
      "text/plain": [
       "<Figure size 144x129.6 with 1 Axes>"
      ]
     },
     "metadata": {
      "needs_background": "light"
     },
     "output_type": "display_data"
    }
   ],
   "source": [
    "g = np.log(2)/58.7; \n",
    "g = 1/28; \n",
    "markersize_ = 1; \n",
    "matplotlib.rcParams.update({\"figure.figsize\": (2,1.8)})\n",
    "ax = plt.subplot(1,1,1)\n",
    "ztmp = np.zeros(len(df_M9Glu2)); \n",
    "for idx_df in range(len(df_M9Glu2)):\n",
    "    psb = df_M9Glu2.iloc[idx_df,:].to_numpy();\n",
    "    ztmp[idx_df] = psb[0]*psb[1]/np.exp(g*psb[2]);\n",
    "plt.hist(ztmp, density = True)\n",
    "print(np.std(ztmp)/np.mean(ztmp))"
   ]
  },
  {
   "cell_type": "code",
   "execution_count": 12,
   "metadata": {},
   "outputs": [
    {
     "name": "stdout",
     "output_type": "stream",
     "text": [
      "0.027312810346351035\n",
      "0.05517660385819271\n",
      "0.011730872753269015\n"
     ]
    }
   ],
   "source": [
    "print(np.std(df_M9Glu2.iloc[:,0])/np.mean(df_M9Glu2.iloc[:,0]))\n",
    "print(np.std(df_M9Glu2.iloc[:,1])/np.mean(df_M9Glu2.iloc[:,1]))\n",
    "#print(np.std(df_M9Glu2.iloc[:,0]*df_M9Glu2.iloc[:,1])/np.mean(df_M9Glu2.iloc[:,0]*df_M9Glu2.iloc[:,1]))\n",
    "print(np.std(df_M9Glu2.iloc[:,2])/np.mean(df_M9Glu2.iloc[:,2]))"
   ]
  },
  {
   "cell_type": "code",
   "execution_count": 13,
   "metadata": {},
   "outputs": [
    {
     "name": "stdout",
     "output_type": "stream",
     "text": [
      "0.05517660385819271\n"
     ]
    }
   ],
   "source": [
    "print(np.std(df_M9Glu2.iloc[:,1])/np.mean(df_M9Glu2.iloc[:,1]))"
   ]
  },
  {
   "cell_type": "code",
   "execution_count": 14,
   "metadata": {},
   "outputs": [
    {
     "name": "stdout",
     "output_type": "stream",
     "text": [
      "0.011730872753269015\n"
     ]
    }
   ],
   "source": [
    "print(np.std(df_M9Glu2.iloc[:,2])/np.mean(df_M9Glu2.iloc[:,2]))"
   ]
  },
  {
   "cell_type": "code",
   "execution_count": 31,
   "metadata": {},
   "outputs": [
    {
     "name": "stdout",
     "output_type": "stream",
     "text": [
      "0.014613632026198944\n"
     ]
    },
    {
     "data": {
      "image/png": "[encoded data removed]",
      "text/plain": [
       "<Figure size 86.4x86.4 with 1 Axes>"
      ]
     },
     "metadata": {
      "needs_background": "light"
     },
     "output_type": "display_data"
    }
   ],
   "source": [
    "g = np.log(2)/58.7; \n",
    "g = 1/28; \n",
    "markersize_ = 1; \n",
    "fontSize=7\n",
    "matplotlib.rcParams.update({\"axes.formatter.limits\": (-4,4),'font.family':'Arial','font.size': fontSize, \"axes.titlesize\": fontSize, \"xtick.labelsize\": fontSize, \"ytick.labelsize\": fontSize,})\n",
    "matplotlib.rcParams.update({\"figure.figsize\": (1.2,1.2)})\n",
    "ax = plt.subplot(1,1,1)\n",
    "ztmp = np.zeros(len(df_M9Glu2)); \n",
    "for idx_df in range(len(df_M9Glu2)):\n",
    "    psb = df_M9Glu2.iloc[idx_df,:].to_numpy();\n",
    "    ztmp[idx_df] = 1e-9*psb[0]*psb[1]/np.exp(g*psb[2]);\n",
    "plt.hist(ztmp, density = True,color='white',ec='k',lw=0.75, histtype='stepfilled')\n",
    "print(np.std(ztmp)/np.mean(ztmp))\n",
    "ax.spines['top'].set_visible(False)\n",
    "ax.spines['right'].set_visible(False)\n",
    "ax.tick_params(axis=\"y\",direction=\"in\")\n",
    "ax.tick_params(axis=\"x\",direction=\"in\")\n",
    "plt.xlim(0.9e-9,1.05e-9)\n",
    "plt.ylim((0,4e10))\n",
    "plt.yticks([0,2e10,4e10])\n",
    "plt.savefig('../output/Sfig10h.pdf',format='pdf', bbox_inches='tight')"
   ]
  },
  {
   "cell_type": "code",
   "execution_count": 32,
   "metadata": {},
   "outputs": [],
   "source": [
    "import xlsxwriter\n",
    "\n",
    "# Create a workbook and add a worksheet.\n",
    "workbook = xlsxwriter.Workbook(\"../output/Sfig10h.xlsx\")\n",
    "writer = pd.ExcelWriter(\"../output/Sfig10h.xlsx\", engine = 'xlsxwriter')\n",
    "\n",
    "df_tmptmp = pd.DataFrame({'R':ztmp})\n",
    "#df_tmptmp = df_tmptmp.T\n",
    "df_tmptmp.to_excel(writer, sheet_name = 'Sfig10h')   \n",
    "\n",
    "writer.close()"
   ]
  },
  {
   "cell_type": "markdown",
   "metadata": {},
   "source": [
    "# 2 Plot Sfigs10eg"
   ]
  },
  {
   "cell_type": "code",
   "execution_count": 16,
   "metadata": {},
   "outputs": [],
   "source": [
    "df_M9Mal = pd.read_csv('../tmp/csv/M9Mal_v0_CI95.csv',delimiter=',',index_col=0) \n",
    "df_M9Mal2 = df_M9Mal.copy(deep=True)\n",
    "df_M9Mal2 = df_M9Mal2.iloc[:,:3]"
   ]
  },
  {
   "cell_type": "code",
   "execution_count": 17,
   "metadata": {},
   "outputs": [
    {
     "name": "stdout",
     "output_type": "stream",
     "text": [
      "[ 0.51521749 97.81194501 46.04451653 -4.74806498]\n",
      "[  0.79219349 213.41932523  59.06541178  -4.58332774]\n"
     ]
    }
   ],
   "source": [
    "print(np.min(df_M9Mal.to_numpy(),axis=0))\n",
    "print(np.max(df_M9Mal.to_numpy(),axis=0))"
   ]
  },
  {
   "cell_type": "code",
   "execution_count": 18,
   "metadata": {},
   "outputs": [
    {
     "data": {
      "image/png": "[encoded data removed]",
      "text/plain": [
       "<Figure size 144x129.6 with 1 Axes>"
      ]
     },
     "metadata": {
      "needs_background": "light"
     },
     "output_type": "display_data"
    }
   ],
   "source": [
    "import numpy as np\n",
    "\n",
    "d2 = df_M9Mal2; \n",
    "\n",
    "def function(data, a, b):\n",
    "    x = data[0]\n",
    "    y = data[1]\n",
    "    return a*(x + y) + b\n",
    "    \n",
    "popt, pcov = curve_fit(function, [np.log10(d2.iloc[:,0]), np.log10(d2.iloc[:,1])], d2.iloc[:,2])\n",
    "r_arr_ = np.logspace(-0.5,0,10)\n",
    "B_arr_ = np.logspace(1.5,2.5,10);\n",
    "X, Y = np.meshgrid(r_arr_, B_arr_)\n",
    "Z = function(np.array([np.log10(X), np.log10(Y)]), *popt)\n",
    "\n",
    "fig = plt.figure()\n",
    "matplotlib.rcParams.update({\"figure.figsize\": (2.0,2.0)})\n",
    "ax = plt.axes(projection='3d')\n",
    "ax.scatter3D(np.log10(d2.iloc[:,0]), np.log10(d2.iloc[:,1]), d2.iloc[:,2],color='k',s=5);\n",
    "ax.plot_surface(np.log10(X), np.log10(Y), Z, color='k', alpha=0.1)\n",
    "ax.grid(False)\n",
    "ax.set_xlim((-0.5,0))\n",
    "ax.set_ylim((1.5,2.5))\n",
    "ax.set_zlim((20,80))\n",
    "ax.view_init(-135, 40)\n",
    "ax.set_xlabel('log10(r)')\n",
    "ax.set_ylabel('log10(B)')\n",
    "ax.set_zlabel(r'$\\tau$')\n",
    "ax.set_zticks([20,50,80])\n",
    "ax.set_xticks([0,-0.25,-0.5])\n",
    "ax.set_yticks([1.5,2,2.5])\n",
    "\n",
    "plt.savefig('../output/Sfig10e.pdf',format='pdf', bbox_inches='tight')\n",
    "#ax.set_xscale('log')\n",
    "#ax.set_yscale('log')"
   ]
  },
  {
   "cell_type": "code",
   "execution_count": 19,
   "metadata": {},
   "outputs": [],
   "source": [
    "import xlsxwriter\n",
    "\n",
    "# Create a workbook and add a worksheet.\n",
    "workbook = xlsxwriter.Workbook(\"../output/Sfig10e.xlsx\")\n",
    "writer = pd.ExcelWriter(\"../output/Sfig10e.xlsx\", engine = 'xlsxwriter')\n",
    "\n",
    "df_tmptmp = pd.DataFrame();\n",
    "df_tmptmp['log10(r)'] = np.log10(d2.iloc[:,0]);\n",
    "df_tmptmp['log10(B)'] = np.log10(d2.iloc[:,1]);\n",
    "df_tmptmp['tau']  = d2.iloc[:,2]\n",
    "df_tmptmp.to_excel(writer, sheet_name = 'Sfig10e')   \n",
    "\n",
    "writer.close()"
   ]
  },
  {
   "cell_type": "code",
   "execution_count": 20,
   "metadata": {},
   "outputs": [
    {
     "name": "stdout",
     "output_type": "stream",
     "text": [
      "0.03340405593235472\n"
     ]
    },
    {
     "data": {
      "image/png": "[encoded data removed]",
      "text/plain": [
       "<Figure size 144x129.6 with 1 Axes>"
      ]
     },
     "metadata": {
      "needs_background": "light"
     },
     "output_type": "display_data"
    }
   ],
   "source": [
    "#g = np.log(2)/91.6;\n",
    "g = 1/19; \n",
    "markersize_ = 1; \n",
    "matplotlib.rcParams.update({\"figure.figsize\": (2,1.8)})\n",
    "ax = plt.subplot(1,1,1)\n",
    "ztmp = np.zeros(len(df_M9Mal2)); \n",
    "for idx_df in range(len(df_M9Mal2)):\n",
    "    psb = df_M9Mal2.iloc[idx_df,:].to_numpy();\n",
    "    #ztmp[idx_df] = np.log(psb[0]*psb[1])/(g*psb[2]);\n",
    "    ztmp[idx_df] = psb[0]*psb[1]/np.exp(g*psb[2]);\n",
    "plt.hist(ztmp, density = True)\n",
    "print(np.std(ztmp)/np.mean(ztmp))\n",
    "#plt.xlim((0,20))"
   ]
  },
  {
   "cell_type": "code",
   "execution_count": 21,
   "metadata": {},
   "outputs": [
    {
     "name": "stdout",
     "output_type": "stream",
     "text": [
      "0.1007281595909203\n",
      "0.1612379655479569\n",
      "0.05280782429187022\n"
     ]
    }
   ],
   "source": [
    "print(np.std(df_M9Mal2.iloc[:,0])/np.mean(df_M9Mal2.iloc[:,0]))\n",
    "print(np.std(df_M9Mal2.iloc[:,1])/np.mean(df_M9Mal2.iloc[:,1]))\n",
    "print(np.std(df_M9Mal2.iloc[:,2])/np.mean(df_M9Mal2.iloc[:,2]))"
   ]
  },
  {
   "cell_type": "code",
   "execution_count": 22,
   "metadata": {},
   "outputs": [
    {
     "name": "stdout",
     "output_type": "stream",
     "text": [
      "0.12183137356561921\n"
     ]
    },
    {
     "data": {
      "image/png": "[encoded data removed]",
      "text/plain": [
       "<Figure size 144x129.6 with 1 Axes>"
      ]
     },
     "metadata": {
      "needs_background": "light"
     },
     "output_type": "display_data"
    }
   ],
   "source": [
    "g = np.log(2)/91.6;\n",
    "#g = 1/101; \n",
    "markersize_ = 1; \n",
    "matplotlib.rcParams.update({\"figure.figsize\": (2,1.8)})\n",
    "ax = plt.subplot(1,1,1)\n",
    "ztmp = np.zeros(len(df_M9Mal2)); \n",
    "for idx_df in range(len(df_M9Mal2)):\n",
    "    psb = df_M9Mal2.iloc[idx_df,:].to_numpy();\n",
    "    ztmp[idx_df] = np.log(psb[0]*psb[1])/(g*psb[2]);\n",
    "    ztmp[idx_df] = psb[0]*psb[1]/np.exp(g*psb[2]);\n",
    "plt.hist(ztmp, density = True)\n",
    "print(np.std(ztmp)/np.mean(ztmp))\n",
    "#plt.xlim((0,20))"
   ]
  },
  {
   "cell_type": "code",
   "execution_count": 23,
   "metadata": {},
   "outputs": [
    {
     "data": {
      "text/plain": [
       "(-1.0, 0.0)"
      ]
     },
     "execution_count": 23,
     "metadata": {},
     "output_type": "execute_result"
    },
    {
     "data": {
      "image/png": "[encoded data removed]",
      "text/plain": [
       "<Figure size 144x129.6 with 1 Axes>"
      ]
     },
     "metadata": {
      "needs_background": "light"
     },
     "output_type": "display_data"
    }
   ],
   "source": [
    "plt.hist(np.log(df_M9Mal2.iloc[:,0]),density=True)\n",
    "plt.xlim((-1,0))"
   ]
  },
  {
   "cell_type": "code",
   "execution_count": 29,
   "metadata": {},
   "outputs": [
    {
     "name": "stdout",
     "output_type": "stream",
     "text": [
      "0.03340405593235473\n"
     ]
    },
    {
     "data": {
      "image/png": "[encoded data removed]",
      "text/plain": [
       "<Figure size 86.4x86.4 with 1 Axes>"
      ]
     },
     "metadata": {
      "needs_background": "light"
     },
     "output_type": "display_data"
    }
   ],
   "source": [
    "#g = np.log(2)/91.6;\n",
    "g = 1/19; \n",
    "markersize_ = 1; \n",
    "fontSize=7\n",
    "matplotlib.rcParams.update({\"axes.formatter.limits\": (-4,4),'font.family':'Arial','font.size': fontSize, \"axes.titlesize\": fontSize, \"xtick.labelsize\": fontSize, \"ytick.labelsize\": fontSize,})\n",
    "matplotlib.rcParams.update({\"figure.figsize\": (1.2,1.2)})\n",
    "ax = plt.subplot(1,1,1)\n",
    "ztmp = np.zeros(len(df_M9Mal2)); \n",
    "for idx_df in range(len(df_M9Mal2)):\n",
    "    psb = df_M9Mal2.iloc[idx_df,:].to_numpy();\n",
    "    #ztmp[idx_df] = np.log(psb[0]*psb[1])/(g*psb[2]);\n",
    "    ztmp[idx_df] = 1e-9*psb[0]*psb[1]/np.exp(g*psb[2]);\n",
    "plt.hist(ztmp, density = True,color='white',ec='k',lw=0.75, histtype='stepfilled')\n",
    "print(np.std(ztmp)/np.mean(ztmp))\n",
    "ax.spines['top'].set_visible(False)\n",
    "ax.spines['right'].set_visible(False)\n",
    "ax.tick_params(axis=\"y\",direction=\"in\")\n",
    "ax.tick_params(axis=\"x\",direction=\"in\")\n",
    "plt.xlim(4.5e-9,7.5e-9)\n",
    "plt.xticks([4.5e-9,6e-9,7.5e-9])\n",
    "plt.ylim((0,2.5e9))\n",
    "plt.yticks([0,1.25e9,2.5e9])\n",
    "plt.savefig('../output/Sfig10g.pdf',format='pdf', bbox_inches='tight')"
   ]
  },
  {
   "cell_type": "code",
   "execution_count": 30,
   "metadata": {},
   "outputs": [],
   "source": [
    "import xlsxwriter\n",
    "\n",
    "# Create a workbook and add a worksheet.\n",
    "workbook = xlsxwriter.Workbook(\"../output/Sfig10g.xlsx\")\n",
    "writer = pd.ExcelWriter(\"../output/Sfig10g.xlsx\", engine = 'xlsxwriter')\n",
    "\n",
    "df_tmptmp = pd.DataFrame({'R':ztmp})\n",
    "#df_tmptmp = df_tmptmp.T\n",
    "df_tmptmp.to_excel(writer, sheet_name = 'Sfig10g')   \n",
    "\n",
    "writer.close()"
   ]
  },
  {
   "cell_type": "code",
   "execution_count": null,
   "metadata": {},
   "outputs": [],
   "source": []
  }
 ],
 "metadata": {
  "kernelspec": {
   "display_name": "Python 3",
   "language": "python",
   "name": "python3"
  },
  "language_info": {
   "codemirror_mode": {
    "name": "ipython",
    "version": 3
   },
   "file_extension": ".py",
   "mimetype": "text/x-python",
   "name": "python",
   "nbconvert_exporter": "python",
   "pygments_lexer": "ipython3",
   "version": "3.8.5"
  }
 },
 "nbformat": 4,
 "nbformat_minor": 5
}
