{
 "cells": [
  {
   "cell_type": "code",
   "execution_count": 1,
   "metadata": {},
   "outputs": [],
   "source": [
    "from __future__ import division\n",
    "import matplotlib\n",
    "from pylab import *\n",
    "import matplotlib.pyplot as plt\n",
    "from scipy.optimize import curve_fit\n",
    "from scipy.stats import linregress\n",
    "from scipy.signal import argrelextrema\n",
    "import numpy as np\n",
    "import pandas as pd\n",
    "import math\n",
    "from ddeint import ddeint\n",
    "import copy"
   ]
  },
  {
   "cell_type": "code",
   "execution_count": 2,
   "metadata": {},
   "outputs": [],
   "source": [
    "# Define some plotting styles that we will use.\n",
    "fontSize=15\n",
    "matplotlib.rcParams.update({\"axes.formatter.limits\": (-4,4),'font.family':'Avenir','font.size': fontSize, \"axes.titlesize\": fontSize, \"xtick.labelsize\": fontSize, \"ytick.labelsize\": fontSize,})\n",
    "plotStyles={\"markersize\":12,\"markeredgewidth\":2.0,\"linewidth\":2.0}\n",
    "stepStyles={\"markersize\":15,\"markeredgewidth\":3.0,\"linewidth\":4.0,\"where\":\"post\"}\n",
    "scatterStyles={\"linewidth\":1.0}"
   ]
  },
  {
   "cell_type": "markdown",
   "metadata": {},
   "source": [
    "# 1 Load plating-based count"
   ]
  },
  {
   "cell_type": "code",
   "execution_count": 3,
   "metadata": {},
   "outputs": [],
   "source": [
    "true_ts = np.array([1.48e9,7.4e6,  6.7e4]);\n",
    "true_ts_err = np.array([0.04e9, 0.4e6, 0.1e4]);\n",
    "\n",
    "true_wt = np.array([8.7e7, 2.07e5, 4.0e3]);\n",
    "true_wt_err = np.array([0.7e7, 0.08e5, 0.2e3]);\n",
    "\n",
    "true_t5 = np.array([2.6e7, 5.8e5, 1.25e4]);\n",
    "true_t5_err = np.array([0.2e7, 0.4e5, 0.03e4]);\n",
    "\n",
    "true_p1 = np.array([1.16e6, 2.7e4, 1.1e3]);\n",
    "true_p1_err = np.array([0.06e4, 0.4e4, 0.1e3]);\n"
   ]
  },
  {
   "cell_type": "markdown",
   "metadata": {},
   "source": [
    "# 2 Load OD-based count\n",
    "## 2.1 Linear calibration"
   ]
  },
  {
   "cell_type": "code",
   "execution_count": 4,
   "metadata": {},
   "outputs": [],
   "source": [
    "sl_ts = np.load('../tmp/linear/ts.npy')\n",
    "sl_ts_err = np.load('../tmp/linear/ts_err.npy')\n",
    "sl_wt = np.load('../tmp/linear/wt.npy')\n",
    "sl_wt_err = np.load('../tmp/linear/wt_err.npy')\n",
    "\n",
    "sl_t5 = np.load('../tmp/linear/t5.npy')\n",
    "sl_t5_err = np.load('../tmp/linear/t5_err.npy')\n",
    "sl_p1 = np.load('../tmp/linear/p1.npy')\n",
    "sl_p1_err = np.load('../tmp/linear/p1_err.npy')\n"
   ]
  },
  {
   "cell_type": "code",
   "execution_count": 5,
   "metadata": {},
   "outputs": [
    {
     "data": {
      "image/png": "[encoded data removed]",
      "text/plain": [
       "<Figure size 151.2x151.2 with 1 Axes>"
      ]
     },
     "metadata": {
      "needs_background": "light"
     },
     "output_type": "display_data"
    }
   ],
   "source": [
    "marker_size_ = 1.5; \n",
    "line_width_ = 1; \n",
    "color_off_set = 1; \n",
    "\n",
    "alpha_ = 1; \n",
    "fontSize=7\n",
    "matplotlib.rcParams.update({\"axes.formatter.limits\": (-4,4),'font.family':'Arial','font.size': fontSize, \"axes.titlesize\": fontSize, \"xtick.labelsize\": fontSize, \"ytick.labelsize\": fontSize,})\n",
    "height = 2.1; \n",
    "\n",
    "#plt.subplots()\n",
    "\n",
    "matplotlib.rcParams.update({\"figure.figsize\": (height,height)})\n",
    "\n",
    "###########\n",
    "ax = plt.subplot(1,1,1)\n",
    "n = 0;\n",
    "###########\n",
    "\n",
    "plt.plot([1e2,1e12],[1e2,1e12],'k',lw=1,color='k')\n",
    "#plt.fill_between([1e2,1e12],[2e1,2e11],[0.5e3,0.5e13],color='#E5E4E2',label='5-fold error')\n",
    "#plt.fill_between([1e2,1e12],[2e1,2e11],[0.5e3,0.5e13],color='#ececec',label='5-fold error')\n",
    "plt.fill_between([1e2,1e12],[5e1,5e11],[0.2e3,0.2e13],color='#fef2c9')\n",
    "\n",
    "\n",
    "plt.errorbar(true_ts, sl_ts, yerr=sl_ts_err, xerr=true_ts_err, \\\n",
    "             color='tab:green', ecolor='tab:green', fmt='o', markersize=1, alpha=1,\\\n",
    "             capsize=2, capthick=0.5, elinewidth=0.5)#,\\\n",
    "            #label='$\\lambda_{ts}$')\n",
    "\n",
    "plt.errorbar(true_wt, sl_wt, yerr=sl_wt_err, xerr=true_wt_err, \\\n",
    "             color='tab:red', ecolor='tab:red', fmt='o', markersize=1, alpha=1,\\\n",
    "             capsize=2, capthick=0.5, elinewidth=0.5)#,\\\n",
    "            #label='$\\lambda_{wt}$')\n",
    "\n",
    "\n",
    "plt.errorbar(true_t5, sl_t5, yerr=sl_t5_err, xerr=true_t5_err, \\\n",
    "             color='tab:blue', ecolor='tab:blue', fmt='o', markersize=1, alpha=1,\\\n",
    "             capsize=2, capthick=0.5, elinewidth=0.5)#,\\\n",
    "            #label='T5')\n",
    "\n",
    "plt.errorbar(true_p1, sl_p1, yerr=sl_p1_err, xerr=true_p1_err, \\\n",
    "             color='tab:purple', ecolor='tab:purple', fmt='o', markersize=1, alpha=1,\\\n",
    "             capsize=2, capthick=0.5, elinewidth=0.5)#,\\\n",
    "            #label='P1')\n",
    "\n",
    "ax.spines['top'].set_visible(False)\n",
    "ax.spines['right'].set_visible(False)\n",
    "ax.tick_params(axis=\"y\",direction=\"in\")\n",
    "ax.tick_params(axis=\"x\",direction=\"in\")\n",
    "plt.xlabel('Concentration by plating (PFU mL$^{-1}$)')\n",
    "plt.ylabel('Concentration by OD (PFU mL$^{-1}$)')\n",
    "#plt.legend(frameon=False,ncol=1)\n",
    "plt.yscale('log')\n",
    "plt.xscale('log')\n",
    "plt.xlim((1e2,1e10))\n",
    "plt.ylim((1e2,1e10))\n",
    "plt.savefig('../output/fig2b.pdf', format='pdf', bbox_inches='tight')\n",
    "#plt.grid(True)\n",
    "#plt.title('Same-day piecewise linear calibration curve',fontsize=18)"
   ]
  },
  {
   "cell_type": "code",
   "execution_count": 6,
   "metadata": {},
   "outputs": [
    {
     "data": {
      "image/png": "[encoded data removed]",
      "text/plain": [
       "<Figure size 151.2x151.2 with 1 Axes>"
      ]
     },
     "metadata": {
      "needs_background": "light"
     },
     "output_type": "display_data"
    }
   ],
   "source": [
    "marker_size_ = 1.5; \n",
    "line_width_ = 1; \n",
    "color_off_set = 1; \n",
    "\n",
    "alpha_ = 1; \n",
    "fontSize=7\n",
    "matplotlib.rcParams.update({\"axes.formatter.limits\": (-4,4),'font.family':'Arial','font.size': fontSize, \"axes.titlesize\": fontSize, \"xtick.labelsize\": fontSize, \"ytick.labelsize\": fontSize,})\n",
    "height = 2.1; \n",
    "\n",
    "#plt.subplots()\n",
    "\n",
    "matplotlib.rcParams.update({\"figure.figsize\": (height,height)})\n",
    "\n",
    "n = 0;\n",
    "###########\n",
    "ax = plt.subplot(1,1,1)\n",
    "\n",
    "def cal_error(true_, est_, err_):\n",
    "    errors = np.zeros((2,len(true_)))\n",
    "    errors[0,:] = (est_ + err_)/true_\n",
    "    errors[1,:] = (est_ - err_)/true_\n",
    "    #errors[0,:] = abs(est_ + err_ - true_)/true_*100\n",
    "    #errors[1,:] = abs(est_ - err_ - true_)/true_*100\n",
    "    return np.mean(errors, axis=0)\n",
    "\n",
    "def cal_error_bar(true_, est_, err_):\n",
    "    errors = np.zeros((2,len(true_)))\n",
    "    errors[0,:] = (est_ + err_)/true_\n",
    "    errors[1,:] = (est_ - err_)/true_\n",
    "    #errors[0,:] = abs(est_ + err_ - true_)/true_*100\n",
    "    #errors[1,:] = abs(est_ - err_ - true_)/true_*100\n",
    "    return np.std(errors, axis=0)\n",
    "\n",
    "plt.errorbar(true_ts, cal_error(true_ts, sl_ts, sl_ts_err), \\\n",
    "             yerr=cal_error_bar(true_ts, sl_ts, sl_ts_err), xerr=true_ts_err, \\\n",
    "             color='tab:green', ecolor='tab:green', fmt='o', markersize=1, alpha=1,\\\n",
    "             capsize=2, capthick=0.5, elinewidth=0.5,\\\n",
    "            label='$\\lambda_{ts}$',zorder=10)\n",
    "\n",
    "plt.errorbar(true_wt, cal_error(true_wt, sl_wt, sl_wt_err), \\\n",
    "             yerr=cal_error_bar(true_wt, sl_wt, sl_wt_err), xerr=true_wt_err, \\\n",
    "             color='tab:red', ecolor='tab:red', fmt='o', markersize=1, alpha=1,\\\n",
    "             capsize=2, capthick=0.5, elinewidth=0.5,\\\n",
    "            label='$\\lambda_{wt}$',zorder=10)\n",
    "\n",
    "plt.errorbar(true_t5, cal_error(true_t5,sl_t5, sl_t5_err), \\\n",
    "             yerr=cal_error_bar(true_t5,sl_t5, sl_t5_err), xerr=true_t5_err, \\\n",
    "             color='tab:blue', ecolor='tab:blue', fmt='o', markersize=1, alpha=1,\\\n",
    "             capsize=2, capthick=0.5, elinewidth=0.5,\\\n",
    "            label='T5',zorder=10)\n",
    "\n",
    "plt.errorbar(true_p1, cal_error(true_p1,sl_p1, sl_p1_err), \n",
    "             yerr=cal_error_bar(true_p1,sl_p1, sl_p1_err), xerr=true_p1_err, \\\n",
    "             color='tab:purple', ecolor='tab:purple', fmt='o', markersize=1, alpha=1,\\\n",
    "             capsize=2, capthick=0.5, elinewidth=0.5,\\\n",
    "            label='P1',zorder=10)\n",
    "plt.axhline(y=1,linestyle='--', color='k',lw=1,zorder=5)\n",
    "plt.fill_between([1e2,1e10],[0.5,0.5],[2,2],color='#fef2c9')\n",
    "ax.spines['top'].set_visible(False)\n",
    "ax.spines['right'].set_visible(False)\n",
    "ax.tick_params(axis=\"y\",direction=\"in\")\n",
    "ax.tick_params(axis=\"x\",direction=\"in\")\n",
    "plt.xlabel('Concentration by plating (PFU mL$^{-1}$)')\n",
    "plt.ylabel('Fold change')\n",
    "#plt.legend(frameon=False)\n",
    "#plt.yscale('log')\n",
    "plt.xscale('log')\n",
    "plt.xlim((1e2,1e10))\n",
    "ax.set_yscale('log')\n",
    "ax.set_yticks([1/4,1/2,1,2,4])\n",
    "ax.set_yticklabels([1/4,1/2,1,2,4])\n",
    "ax.set_ylim(0.125,8)\n",
    "plt.minorticks_off()\n",
    "plt.savefig('../output/fig2c.pdf', format='pdf', bbox_inches='tight')\n",
    "#plt.ylim((1e2,1e10))"
   ]
  },
  {
   "cell_type": "code",
   "execution_count": 7,
   "metadata": {},
   "outputs": [
    {
     "data": {
      "image/png": "[encoded data removed]",
      "text/plain": [
       "<Figure size 151.2x151.2 with 1 Axes>"
      ]
     },
     "metadata": {
      "needs_background": "light"
     },
     "output_type": "display_data"
    }
   ],
   "source": [
    "marker_size_ = 3; \n",
    "line_width_ = 1; \n",
    "color_off_set = 1; \n",
    "\n",
    "alpha_ = 1; \n",
    "fontSize=7\n",
    "matplotlib.rcParams.update({\"axes.formatter.limits\": (-4,4),'font.family':'Arial','font.size': fontSize, \"axes.titlesize\": fontSize, \"xtick.labelsize\": fontSize, \"ytick.labelsize\": fontSize,})\n",
    "height = 2.1; \n",
    "\n",
    "matplotlib.rcParams.update({\"figure.figsize\": (height,height)})\n",
    "ax = plt.subplot(1,1,1)\n",
    "\n",
    "\n",
    "plt.plot(sl_ts, np.power(10, sl_ts_err*np.sqrt(2)/sl_ts),'o', markersize=marker_size_, \\\n",
    "             color='tab:green', alpha=1,\\\n",
    "             label='$\\lambda_{ts}$')\n",
    "\n",
    "plt.plot(sl_wt, np.power(10,sl_wt_err*np.sqrt(2)/sl_wt),'o', markersize=marker_size_, \\\n",
    "             color='tab:red', alpha=1,\\\n",
    "             label='$\\lambda_{wt}$')\n",
    "\n",
    "plt.plot(sl_t5, np.power(10,sl_t5_err*np.sqrt(2)/sl_t5),'o', markersize=marker_size_, \\\n",
    "             color='tab:blue', alpha=1,\\\n",
    "             label='T5')\n",
    "\n",
    "plt.plot(sl_p1, np.power(10,sl_p1_err*np.sqrt(2)/sl_p1),'o', markersize=marker_size_, \\\n",
    "             color='tab:purple',alpha=1,\\\n",
    "             label='P1')\n",
    "plt.xlabel('Concentration by OD (PFU mL$^{-1}$)')\n",
    "plt.xscale('log')\n",
    "plt.ylabel('CV')\n",
    "plt.ylim(0,4); plt.yticks([0,2,4])\n",
    "plt.xlim((1e2,1e10));\n",
    "plt.xticks([1e2,1e4,1e6,1e8,1e10])\n",
    "\n",
    "#plt.legend(frameon=False,ncol=2) \n",
    "ax.spines['top'].set_visible(False)\n",
    "ax.spines['right'].set_visible(False)\n",
    "ax.tick_params(axis=\"y\",direction=\"in\")\n",
    "ax.tick_params(axis=\"x\",direction=\"in\")\n",
    "#plt.tight_layout()\n",
    "plt.savefig('../output/fig2d.pdf', format='pdf', bbox_inches='tight')"
   ]
  },
  {
   "cell_type": "markdown",
   "metadata": {},
   "source": [
    "## 2.2 Interpolating between adjacent calibration points"
   ]
  },
  {
   "cell_type": "code",
   "execution_count": 8,
   "metadata": {},
   "outputs": [],
   "source": [
    "sl_ts = np.load('../tmp/interpolation/ts.npy')\n",
    "sl_ts_err = np.load('../tmp/interpolation/ts_err.npy')\n",
    "sl_wt = np.load('../tmp/interpolation/wt.npy')\n",
    "sl_wt_err = np.load('../tmp/interpolation/wt_err.npy')\n",
    "\n",
    "sl_t5 = np.load('../tmp/interpolation/t5.npy')\n",
    "sl_t5_err = np.load('../tmp/interpolation/t5_err.npy')\n",
    "sl_p1 = np.load('../tmp/interpolation/p1.npy')\n",
    "sl_p1_err = np.load('../tmp/interpolation/p1_err.npy')\n"
   ]
  },
  {
   "cell_type": "code",
   "execution_count": 9,
   "metadata": {},
   "outputs": [
    {
     "data": {
      "image/png": "[encoded data removed]",
      "text/plain": [
       "<Figure size 151.2x151.2 with 1 Axes>"
      ]
     },
     "metadata": {
      "needs_background": "light"
     },
     "output_type": "display_data"
    }
   ],
   "source": [
    "marker_size_ = 1.5; \n",
    "line_width_ = 1; \n",
    "color_off_set = 1; \n",
    "\n",
    "alpha_ = 1; \n",
    "fontSize=7\n",
    "matplotlib.rcParams.update({\"axes.formatter.limits\": (-4,4),'font.family':'Arial','font.size': fontSize, \"axes.titlesize\": fontSize, \"xtick.labelsize\": fontSize, \"ytick.labelsize\": fontSize,})\n",
    "height = 2.1; \n",
    "\n",
    "#plt.subplots()\n",
    "\n",
    "matplotlib.rcParams.update({\"figure.figsize\": (height,height)})\n",
    "\n",
    "n = 0;\n",
    "###########\n",
    "ax = plt.subplot(1,1,1)\n",
    "plt.plot([1e2,1e12],[1e2,1e12],'k',lw=1, color='k',label='y=x')\n",
    "#plt.fill_between([1e2,1e12],[2e1,2e11],[0.5e3,0.5e13],color='#E5E4E2',label='5-fold error')\n",
    "#plt.fill_between([1e2,1e12],[2e1,2e11],[0.5e3,0.5e13],color='#ececec',label='5-fold error')\n",
    "plt.fill_between([1e2,1e12],[5e1,5e11],[2e2,2e12],color='#fef2c9',label='2-fold error')\n",
    "\n",
    "\n",
    "plt.errorbar(true_ts, sl_ts, yerr=sl_ts_err, xerr=true_ts_err, \\\n",
    "             color='tab:green', ecolor='tab:green', fmt='o', markersize=1, alpha=1,\\\n",
    "             capsize=2, capthick=0.5, elinewidth=0.5)#,\\\n",
    "#            label='$\\lambda_{ts}$')\n",
    "\n",
    "plt.errorbar(true_wt, sl_wt, yerr=sl_wt_err, xerr=true_wt_err, \\\n",
    "             color='tab:red', ecolor='tab:red', fmt='o',markersize=1, alpha=1,\\\n",
    "             capsize=2, capthick=0.5, elinewidth=0.5)#,\\\n",
    "#            label='$\\lambda_{wt}$')\n",
    "\n",
    "\n",
    "plt.errorbar(true_t5, sl_t5, yerr=sl_t5_err, xerr=true_t5_err, \\\n",
    "             color='tab:blue', ecolor='tab:blue', fmt='o', markersize=1, alpha=1,\\\n",
    "             capsize=2, capthick=0.5, elinewidth=0.5)#,\\\n",
    "#            label='T5')\n",
    "\n",
    "plt.errorbar(true_p1, sl_p1, yerr=sl_p1_err, xerr=true_p1_err, \\\n",
    "             color='tab:purple', ecolor='tab:purple', fmt='o', markersize=1, alpha=1,\\\n",
    "             capsize=2, capthick=0.5, elinewidth=0.5)#,\\\n",
    "#            label='P1')\n",
    "ax.spines['top'].set_visible(False)\n",
    "ax.spines['right'].set_visible(False)\n",
    "ax.tick_params(axis=\"y\",direction=\"in\")\n",
    "ax.tick_params(axis=\"x\",direction=\"in\")\n",
    "plt.xlabel('Concontration by plating (PFU mL$^{-1}$)')\n",
    "plt.ylabel('Concontration by OD (PFU mL$^{-1}$)')\n",
    "#plt.legend(frameon=False,ncol=1)\n",
    "plt.yscale('log')\n",
    "plt.xscale('log')\n",
    "plt.xlim((1e2,1e10))\n",
    "plt.ylim((1e2,1e10))\n",
    "plt.savefig('../output/Sfig4e.pdf', format='pdf', bbox_inches='tight')\n",
    "#plt.grid(True)\n",
    "#plt.title('Same-day piecewise linear calibration curve',fontsize=18)"
   ]
  },
  {
   "cell_type": "code",
   "execution_count": 10,
   "metadata": {},
   "outputs": [
    {
     "data": {
      "image/png": "[encoded data removed]",
      "text/plain": [
       "<Figure size 151.2x151.2 with 1 Axes>"
      ]
     },
     "metadata": {
      "needs_background": "light"
     },
     "output_type": "display_data"
    }
   ],
   "source": [
    "marker_size_ = 1.5; \n",
    "line_width_ = 1; \n",
    "color_off_set = 1; \n",
    "\n",
    "alpha_ = 1; \n",
    "fontSize=7\n",
    "matplotlib.rcParams.update({\"axes.formatter.limits\": (-4,4),'font.family':'Arial','font.size': fontSize, \"axes.titlesize\": fontSize, \"xtick.labelsize\": fontSize, \"ytick.labelsize\": fontSize,})\n",
    "height = 2.1; \n",
    "\n",
    "#plt.subplots()\n",
    "\n",
    "matplotlib.rcParams.update({\"figure.figsize\": (height,height)})\n",
    "ax = plt.subplot(1,1,1)\n",
    "\n",
    "def cal_error(true_, est_, err_):\n",
    "    errors = np.zeros((2,len(true_)))\n",
    "    errors[0,:] = (est_ + err_)/true_\n",
    "    errors[1,:] = (est_ - err_)/true_\n",
    "    #errors[0,:] = abs(est_ + err_ - true_)/true_*100\n",
    "    #errors[1,:] = abs(est_ - err_ - true_)/true_*100\n",
    "    return np.mean(errors, axis=0)\n",
    "\n",
    "def cal_error_bar(true_, est_, err_):\n",
    "    errors = np.zeros((2,len(true_)))\n",
    "    errors[0,:] = (est_ + err_)/true_\n",
    "    errors[1,:] = (est_ - err_)/true_\n",
    "    #errors[0,:] = abs(est_ + err_ - true_)/true_*100\n",
    "    #errors[1,:] = abs(est_ - err_ - true_)/true_*100\n",
    "    return np.std(errors, axis=0)\n",
    "\n",
    "\n",
    "plt.errorbar(true_ts, cal_error(true_ts, sl_ts, sl_ts_err), \\\n",
    "             yerr=cal_error_bar(true_ts, sl_ts, sl_ts_err), xerr=true_ts_err, \\\n",
    "             color='tab:green', ecolor='tab:green', fmt='o', markersize=1, alpha=1,\\\n",
    "             capsize=2, capthick=0.5, elinewidth=0.5,\\\n",
    "            label='$\\lambda_{ts}$', zorder=10)\n",
    "\n",
    "plt.errorbar(true_wt, cal_error(true_wt, sl_wt, sl_wt_err), \\\n",
    "             yerr=cal_error_bar(true_wt, sl_wt, sl_wt_err), xerr=true_wt_err, \\\n",
    "             color='tab:red', ecolor='tab:red', fmt='o', markersize=1, alpha=1,\\\n",
    "             capsize=2, capthick=0.5, elinewidth=0.5,\\\n",
    "            label='$\\lambda_{wt}$', zorder=10)\n",
    "\n",
    "plt.errorbar(true_t5, cal_error(true_t5,sl_t5, sl_t5_err), \\\n",
    "             yerr=cal_error_bar(true_t5,sl_t5, sl_t5_err), xerr=true_t5_err, \\\n",
    "             color='tab:blue', ecolor='tab:blue', fmt='o', markersize=1, alpha=1,\\\n",
    "             capsize=2, capthick=0.5, elinewidth=0.5,\\\n",
    "            label='T5', zorder=10)\n",
    "\n",
    "plt.errorbar(true_p1, cal_error(true_p1,sl_p1, sl_p1_err), \n",
    "             yerr=cal_error_bar(true_p1,sl_p1, sl_p1_err), xerr=true_p1_err, \\\n",
    "             color='tab:purple', ecolor='tab:purple', fmt='o', markersize=1, alpha=1,\\\n",
    "             capsize=2, capthick=0.5, elinewidth=0.5,\\\n",
    "            label='P1', zorder=10)\n",
    "\n",
    "plt.axhline(y=1,color='black',lw = 1, zorder=0)\n",
    "#plt.axhline(y=100,linestyle='--', color='black',alpha=0.3, label='2 fold error')\n",
    "#plt.fill_between([1e2,1e10],[1,1],color='#fef2c9',label='2 fold error')\n",
    "plt.axhline(y=1,linestyle='--', color='k',lw=1,zorder=5)\n",
    "plt.fill_between([1e2,1e10],[0.5,0.5],[2,2],color='#fef2c9')\n",
    "ax.spines['top'].set_visible(False)\n",
    "ax.spines['right'].set_visible(False)\n",
    "ax.tick_params(axis=\"y\",direction=\"in\")\n",
    "ax.tick_params(axis=\"x\",direction=\"in\")\n",
    "plt.xlabel('Concontration by plating (PFU mL$^{-1}$)')\n",
    "plt.ylabel('Relative error (%)')\n",
    "#plt.legend(frameon=False)\n",
    "#plt.yscale('log')\n",
    "plt.xscale('log')\n",
    "plt.xlim((1e2,1e10))\n",
    "ax.set_yscale('log')\n",
    "ax.set_yticks([1/4,1/2,1,2,4])\n",
    "ax.set_yticklabels([1/4,1/2,1,2,4])\n",
    "ax.set_ylim(0.125,8)\n",
    "plt.minorticks_off()\n",
    "plt.savefig('../output/Sfig4f.pdf', format='pdf', bbox_inches='tight')\n",
    "#plt.ylim((1e2,1e10))"
   ]
  },
  {
   "cell_type": "code",
   "execution_count": 11,
   "metadata": {},
   "outputs": [
    {
     "data": {
      "image/png": "[encoded data removed]",
      "text/plain": [
       "<Figure size 151.2x151.2 with 1 Axes>"
      ]
     },
     "metadata": {
      "needs_background": "light"
     },
     "output_type": "display_data"
    }
   ],
   "source": [
    "marker_size_ = 3; \n",
    "line_width_ = 1; \n",
    "color_off_set = 1; \n",
    "\n",
    "alpha_ = 1; \n",
    "fontSize=7\n",
    "matplotlib.rcParams.update({\"axes.formatter.limits\": (-4,4),'font.family':'Arial','font.size': fontSize, \"axes.titlesize\": fontSize, \"xtick.labelsize\": fontSize, \"ytick.labelsize\": fontSize,})\n",
    "height = 2.1; \n",
    "\n",
    "matplotlib.rcParams.update({\"figure.figsize\": (height,height)})\n",
    "ax = plt.subplot(1,1,1)\n",
    "\n",
    "\n",
    "plt.plot(sl_ts, np.power(10,sl_ts_err*np.sqrt(2)/sl_ts),'o', markersize=marker_size_, \\\n",
    "             color='tab:green', alpha=1,\\\n",
    "             label='$\\lambda_{ts}$')\n",
    "\n",
    "plt.plot(sl_wt, np.power(10,sl_wt_err*np.sqrt(2)/sl_wt),'o', markersize=marker_size_, \\\n",
    "             color='tab:red', alpha=1,\\\n",
    "             label='$\\lambda_{wt}$')\n",
    "\n",
    "plt.plot(sl_t5, np.power(10,sl_t5_err*np.sqrt(2)/sl_t5),'o', markersize=marker_size_, \\\n",
    "             color='tab:blue', alpha=1,\\\n",
    "             label='T5')\n",
    "\n",
    "plt.plot(sl_p1, np.power(10,sl_p1_err*np.sqrt(2)/sl_p1),'o', markersize=marker_size_, \\\n",
    "             color='tab:purple',alpha=1,\\\n",
    "             label='P1')\n",
    "plt.xlabel('Concontration by OD (PFU mL$^{-1}$)')\n",
    "plt.xscale('log')\n",
    "plt.ylabel('CV')\n",
    "plt.ylim(0,4);plt.yticks([0,2,4])\n",
    "plt.xlim((1e2,1e10));\n",
    "plt.xticks([1e2,1e4,1e6,1e8,1e10])\n",
    "\n",
    "#plt.legend(frameon=False,ncol=2) \n",
    "ax.spines['top'].set_visible(False)\n",
    "ax.spines['right'].set_visible(False)\n",
    "ax.tick_params(axis=\"y\",direction=\"in\")\n",
    "ax.tick_params(axis=\"x\",direction=\"in\")\n",
    "#plt.tight_layout()\n",
    "plt.savefig('../output/Sfig4g.pdf', format='pdf', bbox_inches='tight')"
   ]
  },
  {
   "cell_type": "code",
   "execution_count": null,
   "metadata": {},
   "outputs": [],
   "source": []
  },
  {
   "cell_type": "code",
   "execution_count": null,
   "metadata": {},
   "outputs": [],
   "source": []
  }
 ],
 "metadata": {
  "kernelspec": {
   "display_name": "Python 3",
   "language": "python",
   "name": "python3"
  },
  "language_info": {
   "codemirror_mode": {
    "name": "ipython",
    "version": 3
   },
   "file_extension": ".py",
   "mimetype": "text/x-python",
   "name": "python",
   "nbconvert_exporter": "python",
   "pygments_lexer": "ipython3",
   "version": "3.8.5"
  }
 },
 "nbformat": 4,
 "nbformat_minor": 4
}
