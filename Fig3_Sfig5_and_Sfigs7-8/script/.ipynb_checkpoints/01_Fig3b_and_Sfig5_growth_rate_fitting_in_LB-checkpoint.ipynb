{
 "cells": [
  {
   "cell_type": "code",
   "execution_count": 1,
   "metadata": {},
   "outputs": [],
   "source": [
    "from __future__ import division\n",
    "import matplotlib\n",
    "from pylab import *\n",
    "import matplotlib.pyplot as plt\n",
    "from scipy.optimize import curve_fit\n",
    "from scipy.stats import linregress\n",
    "from scipy.signal import argrelextrema\n",
    "import numpy as np\n",
    "import pandas as pd\n",
    "import math\n",
    "from ddeint import ddeint\n",
    "import copy"
   ]
  },
  {
   "cell_type": "markdown",
   "metadata": {},
   "source": [
    "# 1 Load data"
   ]
  },
  {
   "cell_type": "code",
   "execution_count": 2,
   "metadata": {},
   "outputs": [],
   "source": [
    "import scipy\n",
    "import scipy.io as sio\n"
   ]
  },
  {
   "cell_type": "code",
   "execution_count": 3,
   "metadata": {},
   "outputs": [],
   "source": [
    "row_idx = [];\n",
    "for i in ['A','B','C','D','E','F']:\n",
    "    for j in np.arange(1,9,1):\n",
    "        row_idx.append(i+str(j))\n",
    "row_idx.append('Time')"
   ]
  },
  {
   "cell_type": "code",
   "execution_count": 4,
   "metadata": {},
   "outputs": [],
   "source": [
    "df=pd.read_csv('../data/TECAN_230119.csv',delimiter=',',index_col=0)  \n",
    "\n",
    "ydata1 = df.loc['E7'].to_numpy()\n",
    "ydata2 = df.loc['E8'].to_numpy()\n",
    "ydata3 = df.loc['F7'].to_numpy()\n",
    "ydata4 = df.loc['F8'].to_numpy()\n",
    "\n",
    "ymean = (ydata2+ydata4)/2; \n",
    "\n",
    "df_2903 = pd.DataFrame(columns=df.columns); \n",
    "for i in ['A','B','C','D','E','F']:\n",
    "    for j in np.arange(1,9,1):\n",
    "        idx_ = i+str(j)\n",
    "        df_2903.loc[idx_] = df.loc[idx_] - ymean;\n",
    "df_2903.loc['Time'] = df.iloc[0]/60"
   ]
  },
  {
   "cell_type": "markdown",
   "metadata": {},
   "source": [
    "# 2 OD to cell concentration conversion"
   ]
  },
  {
   "cell_type": "code",
   "execution_count": 5,
   "metadata": {},
   "outputs": [],
   "source": [
    "# Define some plotting styles that we will use.\n",
    "fontSize=15\n",
    "matplotlib.rcParams.update({\"axes.formatter.limits\": (-4,4),'font.family':'Avenir','font.size': fontSize, \"axes.titlesize\": fontSize, \"xtick.labelsize\": fontSize, \"ytick.labelsize\": fontSize,})\n",
    "plotStyles={\"markersize\":12,\"markeredgewidth\":2.0,\"linewidth\":2.0}\n",
    "stepStyles={\"markersize\":15,\"markeredgewidth\":3.0,\"linewidth\":4.0,\"where\":\"post\"}\n",
    "scatterStyles={\"linewidth\":1.0}"
   ]
  },
  {
   "cell_type": "code",
   "execution_count": 6,
   "metadata": {},
   "outputs": [
    {
     "name": "stderr",
     "output_type": "stream",
     "text": [
      "/Users/turtle/anaconda3/lib/python3.8/site-packages/scipy/optimize/minpack.py:828: OptimizeWarning: Covariance of the parameters could not be estimated\n",
      "  warnings.warn('Covariance of the parameters could not be estimated',\n"
     ]
    },
    {
     "data": {
      "image/png": "[encoded data removed]",
      "text/plain": [
       "<Figure size 133.2x118.8 with 1 Axes>"
      ]
     },
     "metadata": {
      "needs_background": "light"
     },
     "output_type": "display_data"
    }
   ],
   "source": [
    "tmp = np.genfromtxt(\"../data/Default Dataset.csv\", delimiter=\",\")\n",
    "xtmp = tmp[:,0]\n",
    "ytmp = tmp[:,1]\n",
    "\n",
    "def func_conversion(x,a,b,c,d):\n",
    "    if x < 0.27:\n",
    "        return np.exp(-b*0.27)*c+d\n",
    "    else:\n",
    "        return np.exp(-b*x)*c+d\n",
    "\n",
    "func_conversion = np.vectorize(func_conversion)\n",
    "popt_conv,pcov_conv = curve_fit(func_conversion, xtmp, ytmp, p0=[0.6, 1,1, 2])\n",
    "\n",
    "\n",
    "fontSize=7\n",
    "matplotlib.rcParams.update({\"axes.formatter.limits\": (-4,4),'font.family':'Arial','font.size': fontSize, \"axes.titlesize\": fontSize, \"xtick.labelsize\": fontSize, \"ytick.labelsize\": fontSize,})\n",
    "matplotlib.rcParams.update({\"figure.figsize\": (1.85,1.65)})\n",
    "ax1 = plt.subplot(1,1,1)\n",
    "\n",
    "plt.plot(xtmp, ytmp, 'o',markersize=3, color='k', label='Data')\n",
    "plt.plot(np.linspace(0,2.5,100),func_conversion(np.linspace(0,2.5,100),*popt_conv),'-',color='tab:red', label='Fit')\n",
    "plt.xlabel('$OD_{spec}$')\n",
    "plt.ylabel('Mass per cell (A.U.)')\n",
    "plt.ylim((0,8))\n",
    "\n",
    "ax1.spines['top'].set_visible(False)\n",
    "ax1.spines['right'].set_visible(False)\n",
    "ax1.tick_params(axis=\"y\",direction=\"in\")\n",
    "ax1.tick_params(axis=\"x\",direction=\"in\")\n",
    "\n",
    "#plt.grid(True)\n",
    "plt.legend(frameon=False)\n",
    "plt.savefig('../output/Sfig5a.pdf', format='pdf', bbox_inches='tight')"
   ]
  },
  {
   "cell_type": "markdown",
   "metadata": {},
   "source": [
    "### export source data"
   ]
  },
  {
   "cell_type": "code",
   "execution_count": 8,
   "metadata": {},
   "outputs": [],
   "source": [
    "import xlsxwriter\n",
    "\n",
    "# Create a workbook and add a worksheet.\n",
    "workbook = xlsxwriter.Workbook(\"../output/Sfig5a.xlsx\")\n",
    "writer = pd.ExcelWriter(\"../output/Sfig5a.xlsx\", engine = 'xlsxwriter')\n",
    "\n",
    "dftmp = pd.DataFrame({\"OD spec\": xtmp,\\\n",
    "                     \"Mass per cell (A.U.)\": ytmp}, \\\n",
    "                     columns=['OD spec','Mass per cell (A.U.)'])\n",
    "\n",
    "dftmp = dftmp.T\n",
    "dftmp.to_excel(writer, sheet_name = 'Data')    \n",
    "\n",
    "dftmp = pd.DataFrame({\"OD spec\": np.linspace(0,2.5,100),\\\n",
    "                     \"Mass per cell (A.U.)\": func_conversion(np.linspace(0,2.5,100),*popt_conv)}, \\\n",
    "                        columns=['OD spec','Mass per cell (A.U.)'])\n",
    "\n",
    "dftmp = dftmp.T\n",
    "dftmp.to_excel(writer, sheet_name = 'Fit')    \n",
    "\n",
    "writer.close()"
   ]
  },
  {
   "cell_type": "code",
   "execution_count": 9,
   "metadata": {},
   "outputs": [
    {
     "data": {
      "image/png": "[encoded data removed]",
      "text/plain": [
       "<Figure size 133.2x118.8 with 1 Axes>"
      ]
     },
     "metadata": {
      "needs_background": "light"
     },
     "output_type": "display_data"
    }
   ],
   "source": [
    "fontSize=7\n",
    "matplotlib.rcParams.update({\"axes.formatter.limits\": (-4,4),'font.family':'Arial','font.size': fontSize, \"axes.titlesize\": fontSize, \"xtick.labelsize\": fontSize, \"ytick.labelsize\": fontSize,})\n",
    "matplotlib.rcParams.update({\"figure.figsize\": (1.85,1.65)})\n",
    "ax1 = plt.subplot(1,1,1)\n",
    "\n",
    "spec_OD = np.linspace(0,4.5,100);  #mass per mL\n",
    "mass_per_cell = func_conversion(spec_OD,*popt_conv); \n",
    "CFU_per_mL = spec_OD/mass_per_cell*1e9;\n",
    "#CFU_per_mL = spec_OD/mass_per_cell*2e9;\n",
    "\n",
    "plt.plot(CFU_per_mL, mass_per_cell, color='tab:red',label='Sezonov')\n",
    "\n",
    "#plt.plot(TECAN_OD, TECAN_OD*2.2*1e9, color='tab:red',label='Linear',alpha=0.5)\n",
    "#plt.grid(True)\n",
    "plt.ylabel('Relative adsorptivity')\n",
    "plt.xlabel('CFU/mL')\n",
    "plt.ylim((0,8))\n",
    "\n",
    "ax1.spines['top'].set_visible(False)\n",
    "ax1.spines['right'].set_visible(False)\n",
    "ax1.tick_params(axis=\"y\",direction=\"in\")\n",
    "ax1.tick_params(axis=\"x\",direction=\"in\")\n",
    "\n",
    "#plt.grid(True)\n",
    "#plt.legend(frameon=False)\n",
    "#plt.savefig('../SFig/SFig4B.pdf', format='pdf', bbox_inches='tight')"
   ]
  },
  {
   "cell_type": "code",
   "execution_count": 10,
   "metadata": {},
   "outputs": [],
   "source": [
    "def uninfected_OD_to_CFU(TECAN_OD):\n",
    "    spec_OD = TECAN_OD*4.5; \n",
    "    CFU_per_mL = spec_OD/func_conversion(spec_OD,*popt_conv)*1e9; \n",
    "    return CFU_per_mL"
   ]
  },
  {
   "cell_type": "code",
   "execution_count": 11,
   "metadata": {},
   "outputs": [
    {
     "name": "stderr",
     "output_type": "stream",
     "text": [
      "No handles with labels found to put in legend.\n"
     ]
    },
    {
     "data": {
      "text/plain": [
       "<matplotlib.legend.Legend at 0x7f8382087dc0>"
      ]
     },
     "execution_count": 11,
     "metadata": {},
     "output_type": "execute_result"
    },
    {
     "data": {
      "image/png": "[encoded data removed]",
      "text/plain": [
       "<Figure size 133.2x118.8 with 1 Axes>"
      ]
     },
     "metadata": {
      "needs_background": "light"
     },
     "output_type": "display_data"
    }
   ],
   "source": [
    "fontSize=7\n",
    "matplotlib.rcParams.update({\"axes.formatter.limits\": (-4,4),'font.family':'Arial','font.size': fontSize, \"axes.titlesize\": fontSize, \"xtick.labelsize\": fontSize, \"ytick.labelsize\": fontSize,})\n",
    "matplotlib.rcParams.update({\"figure.figsize\": (1.85,1.65)})\n",
    "ax1 = plt.subplot(1,1,1)\n",
    "\n",
    "spec_OD = np.linspace(0,4.5,100);  #mass per mL\n",
    "mass_per_cell = func_conversion(spec_OD,*popt_conv); \n",
    "CFU_per_mL = spec_OD/mass_per_cell*1e9;\n",
    "\n",
    "TECAN_OD1 = spec_OD/4.5; \n",
    "#TECAN_OD2 = CFU_per_mL*mass_per_cell/1e9/4.5; \n",
    "\n",
    "\n",
    "##########################################\n",
    "\n",
    "plt.plot(CFU_per_mL, TECAN_OD1,color='tab:red')\n",
    "plt.xlabel('CFU/mL')\n",
    "plt.ylabel('OD')\n",
    "ax1.spines['top'].set_visible(False)\n",
    "ax1.spines['right'].set_visible(False)\n",
    "ax1.tick_params(axis=\"y\",direction=\"in\")\n",
    "ax1.tick_params(axis=\"x\",direction=\"in\")\n",
    "\n",
    "#plt.grid(True)\n",
    "plt.legend(frameon=False)\n",
    "#plt.savefig('../SFig/SFig4C.pdf', format='pdf', bbox_inches='tight')"
   ]
  },
  {
   "cell_type": "code",
   "execution_count": 12,
   "metadata": {},
   "outputs": [],
   "source": [
    "df=pd.read_csv('../data/TECAN_230119.csv',delimiter=',',index_col=0) \n",
    "df0=pd.read_csv('../data/TECAN_230119.csv',delimiter=',',index_col=0) \n",
    "#time = df.to_numpy()[0]/60\n",
    "for j in range(38, len(df.iloc[0].to_numpy())+1):\n",
    "    a = df0.loc[\"Time [s]\",str(j)] - 5*60; \n",
    "    df.loc[\"Time [s]\",str(j)] =  a; "
   ]
  },
  {
   "cell_type": "code",
   "execution_count": 13,
   "metadata": {},
   "outputs": [],
   "source": [
    "ydata1 = df.loc['E7'].to_numpy()\n",
    "ydata2 = df.loc['E8'].to_numpy()\n",
    "ydata3 = df.loc['F7'].to_numpy()\n",
    "ydata4 = df.loc['F8'].to_numpy()\n",
    "\n",
    "ymean = (ydata2+ydata4)/2; "
   ]
  },
  {
   "cell_type": "code",
   "execution_count": 14,
   "metadata": {},
   "outputs": [],
   "source": [
    "from matplotlib.pyplot import cm\n",
    "colors=cm.rainbow(np.linspace(0,1,10))"
   ]
  },
  {
   "cell_type": "code",
   "execution_count": 15,
   "metadata": {},
   "outputs": [
    {
     "name": "stdout",
     "output_type": "stream",
     "text": [
      "[  0   7   8  10  11  12  13  14  15  16  17  20  22  26  27  31  32  33\n",
      "  35  38  39  42  43  45  46  52  62  72  82  92 102]\n",
      "[  0   7   8   9  10  11  12  14  15  17  18  20  21  22  24  26  27  32\n",
      "  35  36  37  40  42  47  48  49  50  52  62  72  82  92 102]\n",
      "[  0   7   8  10  11  12  13  15  18  19  22  26  28  31  32  34  36  37\n",
      "  38  39  40  42  52  62  72  82  92 102]\n",
      "[  0   7   8  10  11  12  13  15  17  19  21  22  24  26  27  29  30  32\n",
      "  36  37  38  42  43  45  46  50  52  62  72  82  92 102]\n",
      "124\n",
      "412\n"
     ]
    },
    {
     "data": {
      "image/png": "[encoded data removed]",
      "text/plain": [
       "<Figure size 432x360 with 4 Axes>"
      ]
     },
     "metadata": {
      "needs_background": "light"
     },
     "output_type": "display_data"
    }
   ],
   "source": [
    "time_list2 = {};\n",
    "OD_list2 = {};\n",
    "\n",
    "k = 0; \n",
    "all_data = 0;\n",
    "reducde_data = 0; \n",
    "\n",
    "filtering_threshold = 0.35e-4; \n",
    "matplotlib.rcParams.update({\"figure.figsize\": (6,5)})\n",
    "for j in ['E5','E6','F5','F6']:\n",
    "    ncount = 0; \n",
    "    vxx = df.iloc[0].to_numpy()[7:110]/60\n",
    "    vyy = df.loc[j].to_numpy()[7:110] - ymean[7:110]\n",
    "    all_data = all_data+len(vxx)\n",
    "    \n",
    "    \n",
    "    vyy1 = (vyy[1::2]-vyy[:-1:2])/(vxx[1::2]-vxx[:-1:2])\n",
    "    vxx1 = vxx[:-1:2];\n",
    "    \n",
    "    vyy2 = (vyy1[1:]-vyy1[:-1])/(vxx1[1:]-vxx1[:-1])\n",
    "    vxx2 = vxx1[:-1];\n",
    "    idx_key = np.where(np.abs(vyy2) > filtering_threshold)[0] + 2;#maybe 3? \n",
    "    if 0 not in idx_key:\n",
    "        idx_key = np.append(idx_key, 0);\n",
    "    \n",
    "    for m in np.arange(1,101,10):\n",
    "        if len(vxx)-m not in idx_key:\n",
    "            idx_key = np.append(idx_key, len(vxx)-m);\n",
    "    \n",
    "    idx_key = np.sort(idx_key)\n",
    "    print(idx_key)\n",
    "    reducde_data = reducde_data+len(idx_key)\n",
    "    \n",
    "    time_list2[j] = vxx[idx_key];\n",
    "    OD_list2[j] = uninfected_OD_to_CFU(vyy[idx_key])/1e9; \n",
    "    \n",
    "    \n",
    "    plt.subplot(2,2,k+1)\n",
    "    plt.plot(vxx, uninfected_OD_to_CFU(vyy)/1e9, color = colors[k,:], alpha = 0.5, label=j)\n",
    "    plt.plot(time_list2[j], OD_list2[j], 'o', color = colors[k,:])\n",
    "    k = k+1;\n",
    "plt.tight_layout()\n",
    "print(reducde_data)\n",
    "print(all_data)"
   ]
  },
  {
   "cell_type": "code",
   "execution_count": 16,
   "metadata": {},
   "outputs": [],
   "source": [
    "from lmfit import minimize, Parameters, Parameter, report_fit\n",
    "from scipy.integrate import odeint\n",
    "import copy"
   ]
  },
  {
   "cell_type": "code",
   "execution_count": 17,
   "metadata": {},
   "outputs": [],
   "source": [
    "h = 100;\n",
    "\n",
    "def k_sigmoidal(F, thr1b,thr2b,k1b,k2b,k3b,h):\n",
    "    return k3b + (k2b-k3b)*1/(1+np.exp(-h*(F-thr2b))) + (k1b-k2b)*1/(1+np.exp(-h*(F-thr1b)))\n",
    "\n",
    "def f0(x, t, ps):\n",
    "    try:\n",
    "        k1 = ps['k1'].value\n",
    "        k2 = ps['k2'].value\n",
    "        k3 = ps['k3'].value\n",
    "        v1 = ps['v1'].value\n",
    "        v2 = ps['v2'].value\n",
    "        v3 = ps['v3'].value\n",
    "        e = ps['e'].value\n",
    "        thr1 = ps['thr1'].value\n",
    "        thr2 = ps['thr2'].value\n",
    "    except:\n",
    "        k1, k2, k3, v1, v2, v3, e, thr1, thr2 = ps\n",
    "        \n",
    "    R, N  = x; \n",
    "    \n",
    "    thr_min = min(thr1, thr2)\n",
    "    thr_max = max(thr1, thr2)\n",
    "    \n",
    "    \n",
    "    v_ = k_sigmoidal(R, thr_max,thr_min,v1,v2,v3,h);\n",
    "    k_ = k_sigmoidal(R, thr_max,thr_min,k1,k2,k3,h);\n",
    " \n",
    "    phi = R/(k_+R);\n",
    "    dR = -e*phi*v_*N\n",
    "    dN = v_*phi*N\n",
    "    \n",
    "    return [dR, dN]\n",
    "\n",
    "def g0(t, x0, ps):\n",
    "    x = odeint(f0, x0, t, args=(ps,))\n",
    "    return x[:,1]\n",
    "\n",
    "def residual0(ps, ts):\n",
    "    res_reweight = np.array([]); \n",
    "    \n",
    "    for j in ['E5','E6','F5','F6']:\n",
    "        time_raw = time_list2[j];\n",
    "        data_real = OD_list2[j]; \n",
    "        \n",
    "        data_simul = np.zeros(len(time_raw));\n",
    "        \n",
    "        x0 = [1, data_real[0]];\n",
    "        OD_tmp = g0(ts, x0, ps);\n",
    "        \n",
    "        z = 0; \n",
    "        for j in time_raw:\n",
    "            t_i = np.where(ts>j-time_raw[0])[0][0];\n",
    "            data_simul[z] = OD_tmp[t_i];\n",
    "            z = z+1;\n",
    "        res_reweight = np.append(res_reweight, data_simul - data_real)\n",
    "    tmp = 0; \n",
    "    if abs(ps['thr1'].value-ps['thr2'].value) < 0.1 or max(ps['thr1'].value,ps['thr2'].value) > 0.9:\n",
    "        tmp = 1000;\n",
    "        \n",
    "    return res_reweight + tmp"
   ]
  },
  {
   "cell_type": "code",
   "execution_count": 18,
   "metadata": {},
   "outputs": [
    {
     "data": {
      "text/plain": [
       "\"\\nk1b = result.params['k1'].value\\nk2b = result.params['k2'].value\\nk3b = result.params['k3'].value\\nv1b = result.params['v1'].value\\nv2b = result.params['v2'].value\\nv3b = result.params['v3'].value\\neb = result.params['e'].value\\nif result.params['thr2'].value > result.params['thr1'].value:\\n    thr1b = result.params['thr2'].value\\n    thr2b = result.params['thr1'].value\\nelse:\\n    thr1b = result.params['thr1'].value\\n    thr2b = result.params['thr2'].value\\n\""
      ]
     },
     "execution_count": 18,
     "metadata": {},
     "output_type": "execute_result"
    }
   ],
   "source": [
    "k1b = 0.94142243;\n",
    "k2b = 0.91701951;\n",
    "k3b = 0.84008990;\n",
    "v1b = 0.06815681;\n",
    "v2b = 0.02059688;\n",
    "v3b = 0.01212753;\n",
    "eb = 0.42767688;\n",
    "thr1b = 0.65605135;\n",
    "thr2b = 0.41061183;\n",
    "\n",
    "'''\n",
    "k1b = result.params['k1'].value\n",
    "k2b = result.params['k2'].value\n",
    "k3b = result.params['k3'].value\n",
    "v1b = result.params['v1'].value\n",
    "v2b = result.params['v2'].value\n",
    "v3b = result.params['v3'].value\n",
    "eb = result.params['e'].value\n",
    "if result.params['thr2'].value > result.params['thr1'].value:\n",
    "    thr1b = result.params['thr2'].value\n",
    "    thr2b = result.params['thr1'].value\n",
    "else:\n",
    "    thr1b = result.params['thr1'].value\n",
    "    thr2b = result.params['thr2'].value\n",
    "'''"
   ]
  },
  {
   "cell_type": "code",
   "execution_count": 19,
   "metadata": {},
   "outputs": [
    {
     "data": {
      "image/png": "[encoded data removed]",
      "text/plain": [
       "<Figure size 104.4x104.4 with 2 Axes>"
      ]
     },
     "metadata": {},
     "output_type": "display_data"
    }
   ],
   "source": [
    "t_offset = df.iloc[0].to_numpy()[7]/60; \n",
    "ylim_max = 1.5; \n",
    "data_color = 'lightgray' #'#b2e2e2'\n",
    "model_cell_color = 'k' #[44/255,162/255,95/255,1]#'lightgreen'\n",
    "\n",
    "psb = [k1b, k2b, k3b, v1b, v2b, v3b, eb, thr1b, thr2b];\n",
    "tsb = linspace(0,765,765); \n",
    "\n",
    "myt = df.iloc[0].to_numpy()[7:110]/60; \n",
    "\n",
    "\n",
    "x0_ = np.array([]); \n",
    "for j in ['E5','E6','F5','F6']:\n",
    "    dd = df.loc[j].to_numpy()[7] - ymean[7];\n",
    "    dd1 = uninfected_OD_to_CFU(dd)/1e9; \n",
    "    x0_ = np.append(x0_, dd1);\n",
    "    \n",
    "x0 = [1, np.mean(x0_)];\n",
    "x = odeint(f0, x0, tsb, args=(psb,))\n",
    "myF = x[:,0]; \n",
    "idt1 = np.where(myF<thr1b)[0][0];\n",
    "idt2 = np.where(myF<thr2b)[0][0];\n",
    "\n",
    "fontSize=7\n",
    "matplotlib.rcParams.update({\"axes.formatter.limits\": (-4,4),'font.family':'Arial','font.size': fontSize, \"axes.titlesize\": fontSize, \"xtick.labelsize\": fontSize, \"ytick.labelsize\": fontSize,})\n",
    "matplotlib.rcParams.update({\"figure.figsize\": (1.45,1.45)})\n",
    "ax = plt.subplot(1,1,1)\n",
    "\n",
    "'''\n",
    "plt.fill_between(tsb[:idt1]+t_offset, ylim_max,color='darkgrey',alpha=0.5,edgecolor=None)\n",
    "plt.fill_between(tsb[idt1-1:idt2]+t_offset, ylim_max,color='lightgrey',alpha=0.5,edgecolor=None)\n",
    "plt.fill_between(tsb[idt2-1:]+t_offset, ylim_max,  color='white',alpha=0.5, edgecolor=None)\n",
    "'''\n",
    "\n",
    "for j in ['E5','E6','F5','F6']:\n",
    "    ydata = df.loc[j].to_numpy()[7:110] - ymean[7:110]; \n",
    "    dd1 = uninfected_OD_to_CFU(ydata)/1e9; \n",
    "\n",
    "    if j == 'E5':\n",
    "        plt.plot(myt/60, dd1*1e9,'o',markersize=3, color=data_color,label='Data')\n",
    "    else:\n",
    "        plt.plot(myt/60, dd1*1e9,'o',markersize=3, color=data_color)\n",
    "\n",
    "plt.plot((tsb+t_offset)/60, x[:,1]*1e9,linewidth=1.5,  color=model_cell_color, label='Model')\n",
    "ax.set_ylabel('[U] (CFU mL$^{-1}$)', color=model_cell_color) \n",
    "ax.tick_params(axis='y', labelcolor=model_cell_color)\n",
    "ax.set_xlabel('Time (h)')\n",
    "plt.xticks([0,6,12],[0,6,12])\n",
    "#ax.set_ylabel('$OD_{600}$')\n",
    "ax.set_ylim((0,3e9)) #ax.set_ylim((0,ylim_max))\n",
    "ax.set_xlim((0,12))\n",
    "ax.set_yticks([0,1e9,2e9,3e9])\n",
    "\n",
    "ax2 = ax.twinx()\n",
    "ax2.plot((tsb+t_offset)/60, x[:,0],linewidth=1.5,  color='goldenrod', label='Model (nutrient)')\n",
    "ax2.set_ylabel('[N] (A.U.)', color='goldenrod') \n",
    "ax2.tick_params(axis='y', labelcolor='goldenrod')\n",
    "ax2.set_ylim((0,1.0))#ax2.set_ylim((0,ylim_max))\n",
    "ax2.set_yticks([0,0.5,1.0])\n",
    "\n",
    "\n",
    "ax.spines['top'].set_visible(False)\n",
    "ax.spines['right'].set_visible(False)\n",
    "ax.tick_params(axis=\"y\",direction=\"in\")\n",
    "ax.tick_params(axis=\"x\",direction=\"in\")\n",
    "ax2.spines['top'].set_visible(False)\n",
    "ax2.tick_params(axis=\"y\",direction=\"in\")\n",
    "ax2.tick_params(axis=\"x\",direction=\"in\")\n",
    "\n",
    "#ax.legend(frameon=False,loc='upper left',ncol=1)\n",
    "plt.savefig('../output/Sfig5b.pdf', format='pdf', bbox_inches='tight')"
   ]
  },
  {
   "cell_type": "markdown",
   "metadata": {},
   "source": [
    "### export source data"
   ]
  },
  {
   "cell_type": "code",
   "execution_count": 23,
   "metadata": {},
   "outputs": [],
   "source": [
    "import xlsxwriter\n",
    "\n",
    "# Create a workbook and add a worksheet.\n",
    "workbook = xlsxwriter.Workbook(\"../output/Sfig5b.xlsx\")\n",
    "writer = pd.ExcelWriter(\"../output/Sfig5b.xlsx\", engine = 'xlsxwriter')\n",
    "\n",
    "\n",
    "dftmp = pd.DataFrame({\"Time (h)\": myt/60}, \\\n",
    "                     columns=['Time (h)'])\n",
    "\n",
    "for j in ['E5','E6','F5','F6']:\n",
    "    ydata = df.loc[j].to_numpy()[7:110] - ymean[7:110]; \n",
    "    dd1 = uninfected_OD_to_CFU(ydata)/1e9; \n",
    "    dftmp['CFU per mL from well '+j] = dd1*1e9; \n",
    "\n",
    "dftmp = dftmp.T\n",
    "dftmp.to_excel(writer, sheet_name = 'CFU per mL (data)')  \n",
    "\n",
    "################\n",
    "\n",
    "dftmp = pd.DataFrame({\"Time (h)\": (tsb+t_offset)/60,\\\n",
    "                     \"CFU per mL\": x[:,1]*1e9}, \\\n",
    "                        columns=['Time (h)','CFU per mL'])\n",
    "\n",
    "dftmp = dftmp.T\n",
    "dftmp.to_excel(writer, sheet_name = 'CFU per mL (fit)')    \n",
    "\n",
    "################\n",
    "\n",
    "dftmp = pd.DataFrame({\"Time (h)\": (tsb+t_offset)/60,\\\n",
    "                     \"Nutrient (A.U.)\": x[:,0]}, \\\n",
    "                        columns=['Time (h)','Nutrient (A.U.)'])\n",
    "\n",
    "dftmp = dftmp.T\n",
    "dftmp.to_excel(writer, sheet_name = 'Nutrient (fit)')   \n",
    "\n",
    "writer.close()"
   ]
  },
  {
   "cell_type": "code",
   "execution_count": 24,
   "metadata": {},
   "outputs": [
    {
     "name": "stdout",
     "output_type": "stream",
     "text": [
      "0.9785183250700821\n"
     ]
    }
   ],
   "source": [
    "from numpy.polynomial import Polynomial\n",
    "\n",
    "\n",
    "#CFU_per_mL = x[:,1];\n",
    "myt = (df.iloc[0].to_numpy()[7:110] - df.iloc[0].to_numpy()[7])/60; #minute, 0 \n",
    "OD_TECAN = df.loc['E5'].to_numpy()[7:110] - ymean[7:110]; #start from non zero\n",
    "\n",
    "\n",
    "OD_spec = OD_TECAN*4.5;\n",
    "CFU_per_mL = uninfected_OD_to_CFU(OD_TECAN)/1e9; \n",
    "adsorptivity = OD_spec/CFU_per_mL; \n",
    "\n",
    "N_arr = np.array([]);\n",
    "for i in myt:\n",
    "    N_arr = np.append(N_arr, x[round(i),0])\n",
    "\n",
    "\n",
    "max_ab = max(adsorptivity);\n",
    "min_ab = min(adsorptivity);\n",
    "N0_ab = N_arr[12];\n",
    "print(N0_ab)\n",
    "\n",
    "def poly5(x, c1,c2,c3,c4):\n",
    "    if x > N0_ab:\n",
    "        x_p = N0_ab-0.4; \n",
    "    else:\n",
    "        x_p = x - 0.4;\n",
    "    return np.exp(c1 + c2*x_p + c3*x_p**2 + c4*x_p**3) + min_ab\n",
    "    \n",
    "poly5 = np.vectorize(poly5)"
   ]
  },
  {
   "cell_type": "code",
   "execution_count": 25,
   "metadata": {},
   "outputs": [
    {
     "data": {
      "image/png": "[encoded data removed]",
      "text/plain": [
       "<Figure size 133.2x118.8 with 1 Axes>"
      ]
     },
     "metadata": {
      "needs_background": "light"
     },
     "output_type": "display_data"
    }
   ],
   "source": [
    "fontSize=7\n",
    "matplotlib.rcParams.update({\"axes.formatter.limits\": (-4,4),'font.family':'Arial','font.size': fontSize, \"axes.titlesize\": fontSize, \"xtick.labelsize\": fontSize, \"ytick.labelsize\": fontSize,})\n",
    "matplotlib.rcParams.update({\"figure.figsize\": (1.85,1.65)})\n",
    "ax1 = plt.subplot(1,1,1)\n",
    "\n",
    "popt1 = [-8.71193124, 37.15096412, -76.22902199, 73.68755247]\n",
    "plt.plot(N_arr, adsorptivity ,'o', markersize=3, color='k',label='Prediction from a,b')\n",
    "#plt.axvline(x=N_arr[12])\n",
    "n_test = np.linspace(0,1,100)\n",
    "plt.plot(n_test, poly5(n_test,*popt1),color='goldenrod',label='Fit')\n",
    "plt.xlabel('[N] (A.U.)')\n",
    "plt.ylabel('$\\epsilon$ (A.U.)')\n",
    "plt.ylim((0,8))\n",
    "\n",
    "ax1.spines['top'].set_visible(False)\n",
    "ax1.spines['right'].set_visible(False)\n",
    "ax1.tick_params(axis=\"y\",direction=\"in\")\n",
    "ax1.tick_params(axis=\"x\",direction=\"in\")\n",
    "\n",
    "#plt.grid(True)\n",
    "plt.legend(frameon=False)\n",
    "plt.savefig('../output/Sfig5c.pdf', format='pdf', bbox_inches='tight')"
   ]
  },
  {
   "cell_type": "markdown",
   "metadata": {},
   "source": [
    "### export source data"
   ]
  },
  {
   "cell_type": "code",
   "execution_count": 26,
   "metadata": {},
   "outputs": [],
   "source": [
    "import xlsxwriter\n",
    "\n",
    "# Create a workbook and add a worksheet.\n",
    "workbook = xlsxwriter.Workbook(\"../output/Sfig5c.xlsx\")\n",
    "writer = pd.ExcelWriter(\"../output/Sfig5c.xlsx\", engine = 'xlsxwriter')\n",
    "\n",
    "\n",
    "dftmp = pd.DataFrame({\"Nutrient (A.U.)\": N_arr,\\\n",
    "                     \"epsilon (A.U.)\":adsorptivity}, \\\n",
    "                     columns=['Nutrient (A.U.)',\"epsilon (A.U.)\"])\n",
    "\n",
    "dftmp = dftmp.T\n",
    "dftmp.to_excel(writer, sheet_name = 'epsilon (data from a and b)')  \n",
    "\n",
    "################\n",
    "\n",
    "dftmp = pd.DataFrame({\"Nutrient (A.U.)\": n_test,\\\n",
    "                     \"epsilon (A.U.)\": poly5(n_test,*popt1)}, \\\n",
    "                        columns=['Nutrient (A.U.)',\"epsilon (A.U.)\"])\n",
    "\n",
    "dftmp = dftmp.T\n",
    "dftmp.to_excel(writer, sheet_name = 'epsilon (fit)')    \n",
    "\n",
    "\n",
    "writer.close()"
   ]
  },
  {
   "cell_type": "code",
   "execution_count": 27,
   "metadata": {},
   "outputs": [
    {
     "data": {
      "text/plain": [
       "<matplotlib.legend.Legend at 0x7f83912112e0>"
      ]
     },
     "execution_count": 27,
     "metadata": {},
     "output_type": "execute_result"
    },
    {
     "data": {
      "image/png": "[encoded data removed]",
      "text/plain": [
       "<Figure size 133.2x118.8 with 1 Axes>"
      ]
     },
     "metadata": {
      "needs_background": "light"
     },
     "output_type": "display_data"
    }
   ],
   "source": [
    "fontSize=7\n",
    "matplotlib.rcParams.update({\"axes.formatter.limits\": (-4,4),'font.family':'Arial','font.size': fontSize, \"axes.titlesize\": fontSize, \"xtick.labelsize\": fontSize, \"ytick.labelsize\": fontSize,})\n",
    "matplotlib.rcParams.update({\"figure.figsize\": (1.85,1.65)})\n",
    "ax1 = plt.subplot(1,1,1)\n",
    "\n",
    "t_offset = df.iloc[0].to_numpy()[7]/60; \n",
    "ylim_max = 1.5; \n",
    "data_color = 'lightgray' #'#b2e2e2'\n",
    "model_cell_color = 'goldenrod' #[44/255,162/255,95/255,1]#'lightgreen'\n",
    "\n",
    "psb = [k1b, k2b, k3b, v1b, v2b, v3b, eb, thr1b, thr2b];\n",
    "tsb = linspace(0,765,765); \n",
    "\n",
    "myt = df.iloc[0].to_numpy()[7:110]/60; \n",
    "\n",
    "\n",
    "x0_ = np.array([]); \n",
    "for j in ['E5','E6','F5','F6']:\n",
    "    dd = df.loc[j].to_numpy()[7] - ymean[7];\n",
    "    dd1 = uninfected_OD_to_CFU(dd)/1e9; \n",
    "    x0_ = np.append(x0_, dd1);\n",
    "    \n",
    "x0 = [1, np.mean(x0_)];\n",
    "x = odeint(f0, x0, tsb, args=(psb,))\n",
    "\n",
    "absorptivity = poly5(x[:,0], *popt1);\n",
    "TECAN_OD = np.multiply(absorptivity, x[:,1])/4.5; \n",
    "\n",
    "\n",
    "for j in ['E5']:#['E5','E6','F5','F6']:\n",
    "    dd1 = df.loc[j].to_numpy()[7:110] - ymean[7:110]; \n",
    "    \n",
    "    if j == 'E5':\n",
    "        plt.plot(myt/60, dd1,'o',markersize=3, color=data_color,label='Data')\n",
    "        plt.plot((tsb+t_offset)/60, TECAN_OD,'-', markersize=3, color=model_cell_color,label='Prediction\\n from (D)(E)')\n",
    "#        plt.plot((tsb+t_offset)/60, x[:,0],'-', markersize=3, color='gold',label='Model')\n",
    "    else:\n",
    "        plt.plot(myt/60, dd1,'o',markersize=3, color=data_color,alpha=0.5)\n",
    "\n",
    "plt.xlabel('Time(h)')\n",
    "plt.ylabel('OD')\n",
    "plt.xlim((0,12))\n",
    "plt.ylim((0,1.2))\n",
    "ax1.spines['top'].set_visible(False)\n",
    "ax1.spines['right'].set_visible(False)\n",
    "ax1.tick_params(axis=\"y\",direction=\"in\")\n",
    "ax1.tick_params(axis=\"x\",direction=\"in\")\n",
    "\n",
    "#plt.grid(True)\n",
    "plt.legend(frameon=False)\n",
    "#plt.savefig('../SFig/SFig4F.pdf', format='pdf', bbox_inches='tight')"
   ]
  },
  {
   "cell_type": "code",
   "execution_count": 28,
   "metadata": {},
   "outputs": [
    {
     "data": {
      "image/png": "[encoded data removed]",
      "text/plain": [
       "<Figure size 104.4x104.4 with 2 Axes>"
      ]
     },
     "metadata": {},
     "output_type": "display_data"
    }
   ],
   "source": [
    "fontSize=7\n",
    "matplotlib.rcParams.update({\"axes.formatter.limits\": (-4,4),'font.family':'Arial','font.size': fontSize, \"axes.titlesize\": fontSize, \"xtick.labelsize\": fontSize, \"ytick.labelsize\": fontSize,})\n",
    "matplotlib.rcParams.update({\"figure.figsize\": (1.45,1.45)})\n",
    "ax1 = plt.subplot(1,1,1)\n",
    "\n",
    "t_offset = df.iloc[0].to_numpy()[7]/60; \n",
    "ylim_max = 1.5; \n",
    "data_color = 'lightgray' #'#b2e2e2'\n",
    "model_cell_color = 'k' #[44/255,162/255,95/255,1]#'lightgreen'\n",
    "\n",
    "psb = [k1b, k2b, k3b, v1b, v2b, v3b, eb, thr1b, thr2b];\n",
    "tsb = linspace(0,765,765); \n",
    "\n",
    "myt = df.iloc[0].to_numpy()[7:110]/60; \n",
    "\n",
    "\n",
    "x0_ = np.array([]); \n",
    "for j in ['E5','E6','F5','F6']:\n",
    "    dd = df.loc[j].to_numpy()[7] - ymean[7];\n",
    "    dd1 = uninfected_OD_to_CFU(dd)/1e9; \n",
    "    x0_ = np.append(x0_, dd1);\n",
    "    \n",
    "x0 = [1, np.mean(x0_)];\n",
    "x = odeint(f0, x0, tsb, args=(psb,))\n",
    "\n",
    "absorptivity = poly5(x[:,0], *popt1);\n",
    "TECAN_OD = np.multiply(absorptivity, x[:,1])/4.5; \n",
    "\n",
    "\n",
    "for j in ['E5']:#['E5','E6','F5','F6']:\n",
    "    dd1 = df.loc[j].to_numpy()[7:110] - ymean[7:110]; \n",
    "    \n",
    "    if j == 'E5':\n",
    "        plt.plot(myt/60, dd1,'o',markersize=3, color=data_color)\n",
    "        plt.plot((tsb+t_offset)/60, TECAN_OD,'-', markersize=5, color=model_cell_color)\n",
    "#        plt.plot((tsb+t_offset)/60, x[:,0],'-', markersize=3, color='gold',label='Model')\n",
    "    else:\n",
    "        plt.plot(myt/60, dd1,'o',markersize=3, color=data_color,alpha=0.5)\n",
    "\n",
    "plt.xlabel('Time(h)')\n",
    "plt.ylabel('OD')\n",
    "plt.xlim((0,12))\n",
    "plt.ylim((0,1.2))\n",
    "ax1.spines['top'].set_visible(False)\n",
    "ax1.spines['right'].set_visible(False)\n",
    "ax1.tick_params(axis=\"y\",direction=\"in\")\n",
    "ax1.tick_params(axis=\"x\",direction=\"in\")\n",
    "#plt.legend(frameon=False)\n",
    "ax1.set_ylabel('OD', color=model_cell_color) \n",
    "ax1.tick_params(axis='y', labelcolor=model_cell_color)\n",
    "ax1.set_xlabel('Time (h)')\n",
    "plt.xticks([0,6,12],[0,6,12])\n",
    "#ax.set_ylabel('$OD_{600}$')\n",
    "#ax.set_ylim((0,3e9)) #ax.set_ylim((0,ylim_max))\n",
    "ax1.set_xlim((0,12))\n",
    "ax1.set_yticks([0,0.4,0.8, 1.2])\n",
    "\n",
    "ax2 = ax1.twinx()\n",
    "ax2.plot((tsb+t_offset)/60, x[:,0],linewidth=1.5,  color='goldenrod', label='Model (nutrient)')\n",
    "ax2.set_ylabel('[N] (A.U.)', color='goldenrod') \n",
    "ax2.tick_params(axis='y', labelcolor='goldenrod')\n",
    "ax2.set_ylim((0,1.0))#ax2.set_ylim((0,ylim_max))\n",
    "ax2.set_yticks([0,0.5,1.0])\n",
    "\n",
    "\n",
    "ax.spines['top'].set_visible(False)\n",
    "ax.spines['right'].set_visible(False)\n",
    "ax.tick_params(axis=\"y\",direction=\"in\")\n",
    "ax.tick_params(axis=\"x\",direction=\"in\")\n",
    "ax2.spines['top'].set_visible(False)\n",
    "ax2.tick_params(axis=\"y\",direction=\"in\")\n",
    "ax2.tick_params(axis=\"x\",direction=\"in\")\n",
    "\n",
    "#plt.legend(frameon=False)\n",
    "\n",
    "plt.savefig('../output/fig3b-left.pdf', format='pdf', bbox_inches='tight')"
   ]
  },
  {
   "cell_type": "code",
   "execution_count": 30,
   "metadata": {},
   "outputs": [
    {
     "data": {
      "image/png": "[encoded data removed]",
      "text/plain": [
       "<Figure size 133.2x118.8 with 1 Axes>"
      ]
     },
     "metadata": {
      "needs_background": "light"
     },
     "output_type": "display_data"
    }
   ],
   "source": [
    "def k_raw(F, thr1b,thr2b,k1b,k2b,k3b):\n",
    "    if F > thr1b:\n",
    "        return k1b\n",
    "    elif F <= thr1b and F > thr2b:\n",
    "        return k2b\n",
    "    else:\n",
    "        return k3b\n",
    "k_raw = np.vectorize(k_raw)\n",
    "\n",
    "##############################\n",
    "\n",
    "#thr1b = 1;\n",
    "#thr2b = thrb; \n",
    "\n",
    "v1b__ = v1b;\n",
    "v2b__ = v2b;\n",
    "v3b__ = v3b;\n",
    "\n",
    "k1b__ = k1b;\n",
    "k2b__ = k2b;\n",
    "k3b__ = k3b;\n",
    "\n",
    "##############################\n",
    "\n",
    "fontSize=7\n",
    "matplotlib.rcParams.update({\"axes.formatter.limits\": (-4,4),'font.family':'Arial','font.size': fontSize, \"axes.titlesize\": fontSize, \"xtick.labelsize\": fontSize, \"ytick.labelsize\": fontSize,})\n",
    "matplotlib.rcParams.update({\"figure.figsize\": (1.85,1.65)})\n",
    "ax1 = plt.subplot(1,1,1)\n",
    "\n",
    "\n",
    "\n",
    "#plt.title('LBM')\n",
    "#plt.plot(myt, data,'o',markersize=7.5, color='grey',label='Data')\n",
    "myF = x[:,0]; \n",
    "idt1 = np.where(myF<thr1b)[0][0];\n",
    "#idt2 = np.where(myF<thr2b)[0][0];\n",
    "\n",
    "ax1.spines['top'].set_visible(False)\n",
    "ax1.spines['right'].set_visible(False)\n",
    "ax1.tick_params(axis=\"y\",direction=\"in\")\n",
    "ax1.tick_params(axis=\"x\",direction=\"in\")\n",
    "\n",
    "ax1.fill_between(np.arange(0,thr2b+0.01,0.01),5, color='white',alpha=0.5, edgecolor=None)\n",
    "ax1.fill_between(np.arange(thr2b, thr1b+0.02,0.01),5, color='lightgrey',alpha=0.5, edgecolor=None)\n",
    "ax1.fill_between(np.arange(thr1b+0.01,1.01,0.01),5, color='darkgrey',alpha=0.5, edgecolor=None)\n",
    "\n",
    "F = np.linspace(0,1,1000)\n",
    "color1 = 'k'; \n",
    "color2 = 'goldenrod'; \n",
    "\n",
    "ax1.plot(F, k_raw(F, thr1b,thr2b,v1b__,v2b__,v3b__)*60,linewidth=1.25,color=color1)\n",
    "ax1.set_xlabel('[N] (A.U.)')\n",
    "#ax1.set_ylabel('$v$ (/min)', color=color1)\n",
    "ax1.set_ylabel('$v$ (h$^{-1}$)', color=color1)\n",
    "ax1.tick_params(axis='y', labelcolor=color1)\n",
    "ax1.set_ylim((0,5))\n",
    "ax1.set_xlim((0,1))\n",
    "ax1.set_yticks([0,2.5,5])\n",
    "\n",
    "'''\n",
    "ax2 = ax1.twinx()\n",
    "ax2.plot(F, k_raw(F, thr1b,thr2b,k1b__,k2b__,k3b__),linewidth=1.25,color=color2)\n",
    "#plt.plot(F, k_sigmoidal(F, thr1b,thr2b,v1b,v2b,v3b,h),label='approximation (sigmoid)')\n",
    "ax2.set_xlabel('Relative food abundance')\n",
    "ax2.set_ylabel('Monod constant K (A.U.)', color=color2)\n",
    "ax2.tick_params(axis='y', labelcolor=color2)\n",
    "ax2.yaxis.set_major_locator(MultipleLocator(0.5))\n",
    "ax2.set_ylim((0,1.5))\n",
    "\n",
    "ax2.spines['top'].set_visible(False)\n",
    "#ax2.spines['right'].set_visible(False)\n",
    "ax2.tick_params(axis=\"y\",direction=\"in\")\n",
    "ax2.tick_params(axis=\"x\",direction=\"in\")\n",
    "'''\n",
    "plt.tight_layout()\n",
    "plt.savefig('../output/fig3b-right.pdf', format='pdf', bbox_inches='tight')"
   ]
  },
  {
   "cell_type": "markdown",
   "metadata": {},
   "source": [
    "### export source data"
   ]
  },
  {
   "cell_type": "code",
   "execution_count": 33,
   "metadata": {},
   "outputs": [],
   "source": [
    "import xlsxwriter\n",
    "\n",
    "# Create a workbook and add a worksheet.\n",
    "workbook = xlsxwriter.Workbook(\"../output/Fig3b.xlsx\")\n",
    "writer = pd.ExcelWriter(\"../output/Fig3b.xlsx\", engine = 'xlsxwriter')\n",
    "\n",
    "dd1 = df.loc['E5'].to_numpy()[7:110] - ymean[7:110]; \n",
    "dftmp = pd.DataFrame({\"Time (h)\": myt/60,\\\n",
    "                     \"OD\":dd1}, \\\n",
    "                     columns=['Time (h)','OD'])\n",
    "\n",
    "dftmp = dftmp.T\n",
    "dftmp.to_excel(writer, sheet_name = 'OD (data)')  \n",
    "\n",
    "################\n",
    "\n",
    "dftmp = pd.DataFrame({\"Time (h)\": (tsb+t_offset)/60,\\\n",
    "                     \"OD\": TECAN_OD}, \\\n",
    "                        columns=['Time (h)','OD'])\n",
    "\n",
    "dftmp = dftmp.T\n",
    "dftmp.to_excel(writer, sheet_name = 'OD (fit)')    \n",
    "\n",
    "################\n",
    "\n",
    "dftmp = pd.DataFrame({\"Nutrient (A.U.)\": F,\\\n",
    "                     \"v (per hour)\": k_raw(F, thr1b,thr2b,v1b__,v2b__,v3b__)*60})\n",
    "\n",
    "dftmp = dftmp.T\n",
    "dftmp.to_excel(writer, sheet_name = 'v (fit)')   \n",
    "\n",
    "writer.close()"
   ]
  },
  {
   "cell_type": "code",
   "execution_count": null,
   "metadata": {},
   "outputs": [],
   "source": []
  }
 ],
 "metadata": {
  "kernelspec": {
   "display_name": "Python 3",
   "language": "python",
   "name": "python3"
  },
  "language_info": {
   "codemirror_mode": {
    "name": "ipython",
    "version": 3
   },
   "file_extension": ".py",
   "mimetype": "text/x-python",
   "name": "python",
   "nbconvert_exporter": "python",
   "pygments_lexer": "ipython3",
   "version": "3.8.5"
  }
 },
 "nbformat": 4,
 "nbformat_minor": 4
}
