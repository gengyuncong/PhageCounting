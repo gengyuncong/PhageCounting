{
 "cells": [
  {
   "cell_type": "code",
   "execution_count": 1,
   "metadata": {},
   "outputs": [],
   "source": [
    "from __future__ import division\n",
    "import matplotlib\n",
    "from pylab import *\n",
    "import matplotlib.pyplot as plt\n",
    "from scipy.optimize import curve_fit\n",
    "from scipy.stats import linregress\n",
    "from scipy.signal import argrelextrema\n",
    "import numpy as np\n",
    "import pandas as pd\n",
    "import math\n",
    "from ddeint import ddeint\n",
    "import copy"
   ]
  },
  {
   "cell_type": "markdown",
   "metadata": {},
   "source": [
    "# 1 Load data"
   ]
  },
  {
   "cell_type": "code",
   "execution_count": 2,
   "metadata": {},
   "outputs": [],
   "source": [
    "import scipy\n",
    "import scipy.io as sio\n"
   ]
  },
  {
   "cell_type": "code",
   "execution_count": 3,
   "metadata": {},
   "outputs": [],
   "source": [
    "row_idx = [];\n",
    "for i in ['A','B','C','D','E','F']:\n",
    "    for j in np.arange(1,9,1):\n",
    "        row_idx.append(i+str(j))\n",
    "row_idx.append('Time')"
   ]
  },
  {
   "cell_type": "code",
   "execution_count": 4,
   "metadata": {},
   "outputs": [],
   "source": [
    "filename_OD = '../data/d20220817_ODphagecounting_M9Glu.mat';\n",
    "mat_contents = sio.loadmat(filename_OD)\n",
    "time_ = mat_contents['timeVector'][0]\n",
    "\n",
    "df_glu = pd.DataFrame(mat_contents['blankedOD'])\n",
    "df_glu.loc['Time'] = time_\n",
    "df_glu.index = row_idx"
   ]
  },
  {
   "cell_type": "code",
   "execution_count": 24,
   "metadata": {},
   "outputs": [],
   "source": [
    "filename_OD = '../data/d20220817_ODphagecounting_M9Mal.mat';\n",
    "mat_contents = sio.loadmat(filename_OD)\n",
    "time_ = mat_contents['timeVector'][0]\n",
    "\n",
    "df_mal = pd.DataFrame(mat_contents['blankedOD'])\n",
    "df_mal.loc['Time'] = time_\n",
    "df_mal.index = row_idx"
   ]
  },
  {
   "cell_type": "markdown",
   "metadata": {},
   "source": [
    "## 2 Plot Sfig. 6b"
   ]
  },
  {
   "cell_type": "code",
   "execution_count": 5,
   "metadata": {},
   "outputs": [],
   "source": [
    "from lmfit import minimize, Parameters, Parameter, report_fit\n",
    "from scipy.integrate import odeint\n",
    "import copy\n",
    "\n",
    "def f0(x, t, ps):\n",
    "    try:\n",
    "        k = ps['k'].value\n",
    "        v = ps['v'].value\n",
    "        e = ps['e'].value\n",
    "    except:\n",
    "        k, v, e = ps\n",
    "    R, N  = x; \n",
    "    phi = R/(k+R);\n",
    "    dR = -e*phi*v*N\n",
    "    dN = v*phi*N\n",
    "    return [dR, dN]\n",
    "\n",
    "def g0(t, x0, ps):\n",
    "    x = odeint(f0, x0, t, args=(ps,))\n",
    "    return x[:,1]\n",
    "\n",
    "def residual0(ps, ts, tdata, xdata):\n",
    "    res_reweight = np.array([]); \n",
    "    ds_arr = list(xdata.keys())\n",
    "    \n",
    "    k = 0;\n",
    "    x00 = np.zeros(len(ds_arr)); \n",
    "    for ds_ in ds_arr: \n",
    "        x00[k] = xdata[ds_][0];\n",
    "        k = k+1;\n",
    "\n",
    "    for ds_ in ds_arr: \n",
    "        time_raw = tdata; \n",
    "        data_real = xdata[ds_]; \n",
    "        data_simul = np.zeros(len(time_raw)); \n",
    "        \n",
    "        x0 = [1, np.mean(x00)];\n",
    "        OD_tmp = g0(ts, x0, ps); \n",
    "        z = 0; \n",
    "        for j in time_raw:\n",
    "            t_i = np.where(ts>j)[0][0];\n",
    "            data_simul[z] = OD_tmp[t_i];\n",
    "            z = z+1;\n",
    "        res_reweight = np.append(res_reweight, data_simul - data_real)\n",
    "    return res_reweight"
   ]
  },
  {
   "cell_type": "code",
   "execution_count": 8,
   "metadata": {},
   "outputs": [],
   "source": [
    "#M9Glu\n",
    "tdata = df_glu.loc['Time'][6:130] - df_glu.loc['Time'][6];\n",
    "xdata = {};\n",
    "j = 0; \n",
    "for i in ['C5','C6']:\n",
    "    xdata[j] = df_glu.loc[i][6:130].to_numpy();\n",
    "    j = j+1;"
   ]
  },
  {
   "cell_type": "code",
   "execution_count": 43,
   "metadata": {},
   "outputs": [
    {
     "name": "stdout",
     "output_type": "stream",
     "text": [
      "224.6562020778656\n"
     ]
    }
   ],
   "source": [
    "N = 10; \n",
    "kb_glu = np.zeros(N); \n",
    "vb_glu = np.zeros(N); \n",
    "eb_glu = np.zeros(N); \n",
    "\n",
    "t_0 = time.time() \n",
    "for i_ in range(N):\n",
    "    \n",
    "    t = linspace(0,800,800);  \n",
    "    params = Parameters()\n",
    "    params.add('k', value=0.2, min=0.1, max=1)\n",
    "    params.add('v', value=np.log(2)/20, min=np.log(2)/100, max=1/2)\n",
    "    params.add('e', value=0.1, min=0.01, max=100)\n",
    "\n",
    "    result = minimize(residual0, params, args=(t,tdata,xdata), method='dual_annealing',nan_policy='omit')\n",
    "    \n",
    "    kb = result.params['k'].value;\n",
    "    vb = result.params['v'].value;\n",
    "    eb = result.params['e'].value;\n",
    "    \n",
    "    kb_glu[i_] = kb;\n",
    "    vb_glu[i_] = vb; \n",
    "    eb_glu[i_] = eb;\n",
    "\n",
    "elapsed = time.time() - t_0\n",
    "print(elapsed)"
   ]
  },
  {
   "cell_type": "code",
   "execution_count": 45,
   "metadata": {},
   "outputs": [
    {
     "name": "stdout",
     "output_type": "stream",
     "text": [
      "1.0\n",
      "0.0\n",
      "===========\n",
      "0.022205218314736215\n",
      "1.4421213983397455e-09\n",
      "===========\n",
      "2.138357714668583\n",
      "1.127500298901577e-07\n",
      "===========\n"
     ]
    }
   ],
   "source": [
    "for arr in (kb_glu, vb_glu, eb_glu):\n",
    "    print(np.mean(arr))\n",
    "    print(np.std(arr)/np.sqrt(N))\n",
    "    print('===========')"
   ]
  },
  {
   "cell_type": "code",
   "execution_count": 47,
   "metadata": {},
   "outputs": [],
   "source": [
    "idx_ = 0; \n",
    "\n",
    "kb = kb_glu[idx_]; \n",
    "vb = vb_glu[idx_]\n",
    "eb = eb_glu[idx_];"
   ]
  },
  {
   "cell_type": "code",
   "execution_count": 9,
   "metadata": {},
   "outputs": [],
   "source": [
    "kb = 1.0;\n",
    "vb = 0.022205218314736215;\n",
    "eb = 2.138357714668583;"
   ]
  },
  {
   "cell_type": "code",
   "execution_count": 14,
   "metadata": {},
   "outputs": [
    {
     "data": {
      "image/png": "[encoded data removed]",
      "text/plain": [
       "<Figure size 104.4x104.4 with 2 Axes>"
      ]
     },
     "metadata": {},
     "output_type": "display_data"
    }
   ],
   "source": [
    "#############################\n",
    "\n",
    "ylim_max = 0.5; \n",
    "data_color = 'lightgray'\n",
    "model_cell_color = 'black'; #[44/255,162/255,95/255,1]#'lightgreen'\n",
    "\n",
    "\n",
    "##############################\n",
    "\n",
    "myt = (df_glu.loc['Time'].to_numpy()[6:130] - df_glu.loc['Time'].to_numpy()[6])/60; \n",
    "t_offset = df_glu.loc['Time'].to_numpy()[6]/60; \n",
    "\n",
    "##############################\n",
    "psb_glu = [kb, vb, eb];\n",
    "\n",
    "tsb = linspace(0,800,800);\n",
    "\n",
    "k = 0;\n",
    "ds_arr = list(xdata.keys())\n",
    "x00 = np.zeros(len(ds_arr)); \n",
    "for ds_ in ds_arr: \n",
    "    x00[k] = xdata[ds_][0];\n",
    "    k = k+1;\n",
    "\n",
    "x0 = [1, np.mean(x00)];\n",
    "x = odeint(f0, x0, tsb, args=(psb_glu,))\n",
    "\n",
    "myF = x[:,0]; \n",
    "\n",
    "fontSize=7\n",
    "matplotlib.rcParams.update({\"axes.formatter.limits\": (-4,4),'font.family':'Arial','font.size': fontSize, \"axes.titlesize\": fontSize, \"xtick.labelsize\": fontSize, \"ytick.labelsize\": fontSize,})\n",
    "matplotlib.rcParams.update({\"figure.figsize\": (1.45,1.45)})\n",
    "ax = plt.subplot(1,1,1)\n",
    "\n",
    "'''\n",
    "plt.fill_between(tsb[:idt1]+t_offset, ylim_max,color='darkgrey',alpha=0.5,edgecolor=None)\n",
    "plt.fill_between(tsb[idt1-1:idt2]+t_offset, ylim_max,color='lightgrey',alpha=0.5,edgecolor=None)\n",
    "plt.fill_between(tsb[idt2-1:]+t_offset, ylim_max,  color='white',alpha=0.5, edgecolor=None)\n",
    "'''\n",
    "\n",
    "\n",
    "for i in ['C5','C6']:\n",
    "    ydata = df_glu.loc[i][6:130].to_numpy();\n",
    "    \n",
    "    if i == 'C5':\n",
    "        plt.plot(myt, ydata,'o',markersize=3, color=data_color,label='Data')\n",
    "    else:\n",
    "        plt.plot(myt, ydata,'o',markersize=3, color=data_color)\n",
    "plt.title('M9Glu')\n",
    "plt.plot((tsb+t_offset)/60, x[:,1],linewidth=1.5,  color=model_cell_color, label='Model')\n",
    "ax.set_ylabel('OD', color=model_cell_color) \n",
    "ax.tick_params(axis='y', labelcolor=model_cell_color)\n",
    "ax.set_xlabel('Time (h)')\n",
    "plt.xticks([0,6,12],[0,6,12])\n",
    "#ax.set_ylabel('$OD_{600}$')\n",
    "ax.set_xlim((0,13))\n",
    "plt.yscale('log')\n",
    "plt.ylim((1e-3,1))\n",
    "ax.set_yticks([1e-3,1e-2,1e-1,1e0])\n",
    "#ax.set_yticklabels(['$10^{-3}$','$10^{-1}$','$10^{1}$'])\n",
    "\n",
    "ax2 = ax.twinx()\n",
    "ax2.plot((tsb+t_offset)/60, x[:,0],linewidth=1.5,  color='goldenrod', label='Model (nutrient)')\n",
    "ax2.set_ylabel('[N] (A.U.)', color='goldenrod') \n",
    "ax2.tick_params(axis='y', labelcolor='goldenrod')\n",
    "ax2.set_ylim((0,1.2))\n",
    "ax2.set_yticks([0, 0.4,0.8, 1.2])\n",
    "\n",
    "\n",
    "ax.spines['top'].set_visible(False)\n",
    "ax.spines['right'].set_visible(False)\n",
    "ax.tick_params(axis=\"y\",direction=\"in\")\n",
    "ax.tick_params(axis=\"x\",direction=\"in\")\n",
    "ax2.spines['top'].set_visible(False)\n",
    "ax2.tick_params(axis=\"y\",direction=\"in\")\n",
    "ax2.tick_params(axis=\"x\",direction=\"in\")\n",
    "\n",
    "#ax.legend(frameon=False,loc='upper left',ncol=1)\n",
    "plt.savefig('../output/Sfig6b-left.pdf', format='pdf', bbox_inches='tight')"
   ]
  },
  {
   "cell_type": "code",
   "execution_count": 15,
   "metadata": {},
   "outputs": [],
   "source": [
    "import xlsxwriter\n",
    "\n",
    "# Create a workbook and add a worksheet.\n",
    "workbook = xlsxwriter.Workbook(\"../output/Sfig6b.xlsx\")\n",
    "writer = pd.ExcelWriter(\"../output/Sfig6b.xlsx\", engine = 'xlsxwriter')\n",
    "\n",
    "df_tmptmp = pd.DataFrame(); \n",
    "df_tmptmp['Time (h)'] = myt;\n",
    "for i in ['C5','C6']:\n",
    "    ydata = df_glu.loc[i][6:130].to_numpy();\n",
    "    df_tmptmp['OD from well '+i] = ydata;\n",
    "df_tmptmp = df_tmptmp.T\n",
    "df_tmptmp.to_excel(writer, sheet_name = 'data') \n",
    "\n",
    "df_tmptmp = pd.DataFrame(); \n",
    "df_tmptmp['Time (h)'] = (tsb+t_offset)/60;\n",
    "df_tmptmp['OD'] = x[:,1];\n",
    "df_tmptmp['[N] (A.U.)'] = x[:,0]; \n",
    "df_tmptmp = df_tmptmp.T\n",
    "df_tmptmp.to_excel(writer, sheet_name = 'Fit') \n",
    "\n",
    "\n",
    "writer.close()"
   ]
  },
  {
   "cell_type": "code",
   "execution_count": 18,
   "metadata": {},
   "outputs": [
    {
     "data": {
      "image/png": "[encoded data removed]",
      "text/plain": [
       "<Figure size 115.2x115.2 with 1 Axes>"
      ]
     },
     "metadata": {
      "needs_background": "light"
     },
     "output_type": "display_data"
    }
   ],
   "source": [
    "def k_raw(F, thr1b,thr2b,k1b,k2b,k3b):\n",
    "    if F > thr1b:\n",
    "        return k1b\n",
    "    elif F <= thr1b and F > thr2b:\n",
    "        return k2b\n",
    "    else:\n",
    "        return k3b\n",
    "k_raw = np.vectorize(k_raw)\n",
    "\n",
    "##############################\n",
    "\n",
    "thr1b = 2;\n",
    "thr2b = 1; \n",
    "\n",
    "v1b = vb;\n",
    "v2b = vb;\n",
    "v3b = vb;\n",
    "\n",
    "k1b = kb;\n",
    "k2b = kb;\n",
    "k3b = kb;\n",
    "\n",
    "##############################\n",
    "\n",
    "fontSize=7\n",
    "matplotlib.rcParams.update({\"axes.formatter.limits\": (-4,4),'font.family':'Arial','font.size': fontSize, \"axes.titlesize\": fontSize, \"xtick.labelsize\": fontSize, \"ytick.labelsize\": fontSize,})\n",
    "matplotlib.rcParams.update({\"figure.figsize\": (1.6,1.6)})\n",
    "ax1 = plt.subplot(1,1,1)\n",
    "plt.title('M9Glu')\n",
    "#plt.plot(myt, data,'o',markersize=7.5, color='grey',label='Data')\n",
    "myF = x[:,0]; \n",
    "idt1 = np.where(myF<thr1b)[0][0];\n",
    "#idt2 = np.where(myF<thr2b)[0][0];\n",
    "\n",
    "ax1.spines['top'].set_visible(False)\n",
    "ax1.spines['right'].set_visible(False)\n",
    "ax1.tick_params(axis=\"y\",direction=\"in\")\n",
    "ax1.tick_params(axis=\"x\",direction=\"in\")\n",
    "\n",
    "ax1.fill_between(np.arange(0,thr2b+0.01,0.01),0.06*60, color='white',alpha=0.5, edgecolor=None)\n",
    "ax1.fill_between(np.arange(thr2b, thr1b+0.01,0.01),0.06*60, color='lightgrey',alpha=0.5, edgecolor=None)\n",
    "ax1.fill_between(np.arange(thr1b,1.01,0.01),0.06*60, color='darkgrey',alpha=0.5, edgecolor=None)\n",
    "\n",
    "F = np.linspace(0,1,1000)\n",
    "color1 = 'k'; \n",
    "color2 = 'goldenrod'; \n",
    "\n",
    "ax1.plot(F, k_raw(F, thr1b,thr2b,v1b,v2b,v3b)*60,linewidth=1.25,color=color1)\n",
    "ax1.set_xlabel('[N] (A.U.)')\n",
    "#ax1.set_ylabel('$v$ (/min)', color=color1)\n",
    "ax1.set_ylabel('Maximum growth rate v (h$^{-1}$)', color=color1)\n",
    "ax1.tick_params(axis='y', labelcolor=color1)\n",
    "ax1.set_ylim((0,0.06*60))\n",
    "ax1.set_xlim((0,1))\n",
    "\n",
    "'''\n",
    "ax2 = ax1.twinx()\n",
    "ax2.plot(F, k_raw(F, thr1b,thr2b,k1b,k2b,k3b),linewidth=1.25,color=color2)\n",
    "#plt.plot(F, k_sigmoidal(F, thr1b,thr2b,v1b,v2b,v3b,h),label='approximation (sigmoid)')\n",
    "ax2.set_xlabel('Relative food abundance')\n",
    "ax2.set_ylabel('Monod constant K (A.U.)', color=color2)\n",
    "ax2.tick_params(axis='y', labelcolor=color2)\n",
    "ax2.yaxis.set_major_locator(MultipleLocator(0.5))\n",
    "ax2.set_ylim((0,1.5))\n",
    "\n",
    "ax2.spines['top'].set_visible(False)\n",
    "#ax2.spines['right'].set_visible(False)\n",
    "ax2.tick_params(axis=\"y\",direction=\"in\")\n",
    "ax2.tick_params(axis=\"x\",direction=\"in\")\n",
    "'''\n",
    "plt.tight_layout()\n",
    "plt.savefig('../output/Sfig6b-right.pdf', format='pdf', bbox_inches='tight')"
   ]
  },
  {
   "cell_type": "code",
   "execution_count": 21,
   "metadata": {},
   "outputs": [
    {
     "name": "stdout",
     "output_type": "stream",
     "text": [
      "1.332313098884173\n"
     ]
    }
   ],
   "source": [
    "print(k_raw(F, thr1b,thr2b,v1b,v2b,v3b)[0]*60)"
   ]
  },
  {
   "cell_type": "markdown",
   "metadata": {},
   "source": [
    "# 2 Plot Sfig. 6c"
   ]
  },
  {
   "cell_type": "code",
   "execution_count": 22,
   "metadata": {},
   "outputs": [],
   "source": [
    "from lmfit import minimize, Parameters, Parameter, report_fit\n",
    "from scipy.integrate import odeint\n",
    "import copy\n",
    "\n",
    "def f0(x, t, ps):\n",
    "    try:\n",
    "        k = ps['k'].value\n",
    "        v = ps['v'].value\n",
    "        e = ps['e'].value\n",
    "    except:\n",
    "        k, v, e = ps\n",
    "    R, N  = x; \n",
    "    phi = R/(k+R);\n",
    "    dR = -e*phi*v*N\n",
    "    dN = v*phi*N\n",
    "    return [dR, dN]\n",
    "\n",
    "def g0(t, x0, ps):\n",
    "    x = odeint(f0, x0, t, args=(ps,))\n",
    "    return x[:,1]\n",
    "\n",
    "def residual0(ps, ts, tdata, xdata):\n",
    "    res_reweight = np.array([]); \n",
    "    ds_arr = list(xdata.keys())\n",
    "    \n",
    "    k = 0;\n",
    "    x00 = np.zeros(len(ds_arr)); \n",
    "    for ds_ in ds_arr: \n",
    "        x00[k] = xdata[ds_][0];\n",
    "        k = k+1;\n",
    "\n",
    "    for ds_ in ds_arr: \n",
    "        time_raw = tdata; \n",
    "        data_real = xdata[ds_]; \n",
    "        data_simul = np.zeros(len(time_raw)); \n",
    "        \n",
    "        x0 = [1, np.mean(x00)];\n",
    "        OD_tmp = g0(ts, x0, ps); \n",
    "        z = 0; \n",
    "        for j in time_raw:\n",
    "            t_i = np.where(ts>j)[0][0];\n",
    "            data_simul[z] = OD_tmp[t_i];\n",
    "            z = z+1;\n",
    "        res_reweight = np.append(res_reweight, data_simul - data_real)\n",
    "    return res_reweight"
   ]
  },
  {
   "cell_type": "code",
   "execution_count": 25,
   "metadata": {},
   "outputs": [],
   "source": [
    "#M9Mal\n",
    "tdata = df_mal.loc['Time'][6:160] - df_mal.loc['Time'][6];\n",
    "tdata = tdata.to_numpy()\n",
    "xdata = {};\n",
    "j = 0; \n",
    "for i in ['C5','C6']:\n",
    "    xdata[j] = df_mal.loc[i][6:160].to_numpy();\n",
    "    j = j+1;"
   ]
  },
  {
   "cell_type": "code",
   "execution_count": 55,
   "metadata": {},
   "outputs": [
    {
     "name": "stdout",
     "output_type": "stream",
     "text": [
      "251.77337980270386\n"
     ]
    }
   ],
   "source": [
    "N = 10; \n",
    "\n",
    "kb_mal = np.zeros(N); \n",
    "vb_mal = np.zeros(N); \n",
    "eb_mal = np.zeros(N); \n",
    "\n",
    "t_0 = time.time() \n",
    "for i_ in range(N):\n",
    "    \n",
    "    t = linspace(0,1100,1100);  \n",
    "    \n",
    "    params = Parameters()\n",
    "    params.add('k', value=0.2, min=0.1, max=1)\n",
    "    params.add('v', value=np.log(2)/60, min=np.log(2)/200, max=1/2)\n",
    "    params.add('e', value=0.1, min=0.01, max=100)\n",
    "\n",
    "    result = minimize(residual0, params, args=(t,tdata,xdata), method='dual_annealing',nan_policy='omit')\n",
    "    \n",
    "    kb = result.params['k'].value;\n",
    "    vb = result.params['v'].value;\n",
    "    eb = result.params['e'].value;\n",
    "    \n",
    "    kb_mal[i_] = kb;\n",
    "    vb_mal[i_] = vb; \n",
    "    eb_mal[i_] = eb;\n",
    "\n",
    "elapsed = time.time() - t_0\n",
    "print(elapsed)"
   ]
  },
  {
   "cell_type": "code",
   "execution_count": 56,
   "metadata": {},
   "outputs": [
    {
     "name": "stdout",
     "output_type": "stream",
     "text": [
      "1.0\n",
      "0.0\n",
      "===========\n",
      "0.01858827556302053\n",
      "1.7316845844235384e-10\n",
      "===========\n",
      "2.071759776050249\n",
      "8.062396386939593e-08\n",
      "===========\n"
     ]
    }
   ],
   "source": [
    "for arr in (kb_mal, vb_mal, eb_mal):\n",
    "    print(np.mean(arr))\n",
    "    print(np.std(arr)/np.sqrt(N))\n",
    "    print('===========')"
   ]
  },
  {
   "cell_type": "code",
   "execution_count": 57,
   "metadata": {},
   "outputs": [],
   "source": [
    "idx_ = 0; \n",
    "\n",
    "kb = kb_mal[idx_]; \n",
    "vb = vb_mal[idx_]\n",
    "eb = eb_mal[idx_];"
   ]
  },
  {
   "cell_type": "code",
   "execution_count": 26,
   "metadata": {},
   "outputs": [],
   "source": [
    "kb = 1.0;\n",
    "vb = 0.01858827556302053;\n",
    "eb = 2.071759776050249; "
   ]
  },
  {
   "cell_type": "code",
   "execution_count": 27,
   "metadata": {},
   "outputs": [
    {
     "data": {
      "image/png": "[encoded data removed]",
      "text/plain": [
       "<Figure size 104.4x104.4 with 2 Axes>"
      ]
     },
     "metadata": {},
     "output_type": "display_data"
    }
   ],
   "source": [
    "#############################\n",
    "\n",
    "ylim_max = 0.5; \n",
    "data_color = 'lightgray'\n",
    "model_cell_color = 'black'#[44/255,162/255,95/255,1]#'lightgreen'\n",
    "\n",
    "\n",
    "##############################\n",
    "\n",
    "myt = (df_mal.loc['Time'].to_numpy()[6:160] - df_mal.loc['Time'].to_numpy()[6])/60; \n",
    "t_offset = df_mal.loc['Time'].to_numpy()[6]/60; \n",
    "\n",
    "##############################\n",
    "psb_mal = [kb, vb, eb];\n",
    "\n",
    "tsb = linspace(0,1000,1000);\n",
    "\n",
    "k = 0;\n",
    "ds_arr = list(xdata.keys())\n",
    "x00 = np.zeros(len(ds_arr)); \n",
    "for ds_ in ds_arr: \n",
    "    x00[k] = xdata[ds_][0];\n",
    "    k = k+1;\n",
    "\n",
    "x0 = [1, np.mean(x00)];\n",
    "x = odeint(f0, x0, tsb, args=(psb_mal,))\n",
    "\n",
    "##############################\n",
    "\n",
    "myF = x[:,0]; \n",
    "\n",
    "fontSize=7\n",
    "matplotlib.rcParams.update({\"axes.formatter.limits\": (-4,4),'font.family':'Arial','font.size': fontSize, \"axes.titlesize\": fontSize, \"xtick.labelsize\": fontSize, \"ytick.labelsize\": fontSize,})\n",
    "matplotlib.rcParams.update({\"figure.figsize\": (1.45,1.45)})\n",
    "ax = plt.subplot(1,1,1)\n",
    "\n",
    "for i in ['C5','C6']:\n",
    "    ydata = df_mal.loc[i][6:160].to_numpy();\n",
    "    \n",
    "    if i == 'C5':\n",
    "        plt.plot(myt, ydata,'o',markersize=3, color=data_color,label='Data')\n",
    "    else:\n",
    "        plt.plot(myt, ydata,'o',markersize=3, color=data_color)\n",
    "plt.title('M9Mal')\n",
    "plt.plot((tsb+t_offset)/60, x[:,1],linewidth=1.5,  color=model_cell_color, label='Model')\n",
    "ax.set_ylabel('OD', color=model_cell_color) \n",
    "ax.tick_params(axis='y', labelcolor=model_cell_color)\n",
    "ax.set_xlabel('Time (h)')\n",
    "plt.xticks([0,6,12],[0,6,12])\n",
    "#ax.set_ylabel('$OD_{600}$')\n",
    "ax.set_xlim((0,1000/60))\n",
    "plt.yscale('log')\n",
    "plt.ylim((1e-3,1))\n",
    "ax.set_yticks([1e-3,1e-2,1e-1,1e0])\n",
    "#ax.set_yticklabels(['$10^{-3}$','$10^{-1}$','$10^{1}$'])\n",
    "\n",
    "ax2 = ax.twinx()\n",
    "ax2.plot((tsb+t_offset)/60, x[:,0],linewidth=1.5,  color='goldenrod', label='Model (nutrient)')\n",
    "ax2.set_ylabel('[N] (A.U.)', color='goldenrod') \n",
    "ax2.tick_params(axis='y', labelcolor='goldenrod')\n",
    "ax2.set_ylim((0,1.2))\n",
    "ax2.set_yticks([0, 0.4,0.8, 1.2])\n",
    "\n",
    "\n",
    "ax.spines['top'].set_visible(False)\n",
    "ax.spines['right'].set_visible(False)\n",
    "ax.tick_params(axis=\"y\",direction=\"in\")\n",
    "ax.tick_params(axis=\"x\",direction=\"in\")\n",
    "ax2.spines['top'].set_visible(False)\n",
    "ax2.tick_params(axis=\"y\",direction=\"in\")\n",
    "ax2.tick_params(axis=\"x\",direction=\"in\")\n",
    "\n",
    "#ax.legend(frameon=False,loc='upper left',ncol=1)\n",
    "plt.savefig('../output/Sfig6c-left.pdf', format='pdf', bbox_inches='tight')"
   ]
  },
  {
   "cell_type": "code",
   "execution_count": 29,
   "metadata": {},
   "outputs": [],
   "source": [
    "import xlsxwriter\n",
    "\n",
    "# Create a workbook and add a worksheet.\n",
    "workbook = xlsxwriter.Workbook(\"../output/Sfig6c.xlsx\")\n",
    "writer = pd.ExcelWriter(\"../output/Sfig6c.xlsx\", engine = 'xlsxwriter')\n",
    "\n",
    "df_tmptmp = pd.DataFrame(); \n",
    "df_tmptmp['Time (h)'] = myt;\n",
    "for i in ['C5','C6']:\n",
    "    ydata = df_mal.loc[i][6:160].to_numpy();\n",
    "    df_tmptmp['OD from well '+i] = ydata;\n",
    "df_tmptmp = df_tmptmp.T\n",
    "df_tmptmp.to_excel(writer, sheet_name = 'data') \n",
    "\n",
    "df_tmptmp = pd.DataFrame(); \n",
    "df_tmptmp['Time (h)'] = (tsb+t_offset)/60;\n",
    "df_tmptmp['OD'] = x[:,1];\n",
    "df_tmptmp['[N] (A.U.)'] = x[:,0]; \n",
    "df_tmptmp = df_tmptmp.T\n",
    "df_tmptmp.to_excel(writer, sheet_name = 'Fit') \n",
    "\n",
    "\n",
    "writer.close()"
   ]
  },
  {
   "cell_type": "code",
   "execution_count": 31,
   "metadata": {},
   "outputs": [
    {
     "data": {
      "image/png": "[encoded data removed]",
      "text/plain": [
       "<Figure size 115.2x115.2 with 1 Axes>"
      ]
     },
     "metadata": {
      "needs_background": "light"
     },
     "output_type": "display_data"
    }
   ],
   "source": [
    "def k_raw(F, thr1b,thr2b,k1b,k2b,k3b):\n",
    "    if F > thr1b:\n",
    "        return k1b\n",
    "    elif F <= thr1b and F > thr2b:\n",
    "        return k2b\n",
    "    else:\n",
    "        return k3b\n",
    "k_raw = np.vectorize(k_raw)\n",
    "\n",
    "##############################\n",
    "\n",
    "thr1b = 2;\n",
    "thr2b = 1; \n",
    "\n",
    "v1b = vb;\n",
    "v2b = vb;\n",
    "v3b = vb;\n",
    "\n",
    "k1b = kb;\n",
    "k2b = kb;\n",
    "k3b = kb;\n",
    "\n",
    "##############################\n",
    "\n",
    "fontSize=7\n",
    "matplotlib.rcParams.update({\"axes.formatter.limits\": (-4,4),'font.family':'Arial','font.size': fontSize, \"axes.titlesize\": fontSize, \"xtick.labelsize\": fontSize, \"ytick.labelsize\": fontSize,})\n",
    "matplotlib.rcParams.update({\"figure.figsize\": (1.6,1.6)})\n",
    "ax1 = plt.subplot(1,1,1)\n",
    "plt.title('M9Mal')\n",
    "#plt.plot(myt, data,'o',markersize=7.5, color='grey',label='Data')\n",
    "myF = x[:,0]; \n",
    "idt1 = np.where(myF<thr1b)[0][0];\n",
    "#idt2 = np.where(myF<thr2b)[0][0];\n",
    "\n",
    "ax1.spines['top'].set_visible(False)\n",
    "ax1.spines['right'].set_visible(False)\n",
    "ax1.tick_params(axis=\"y\",direction=\"in\")\n",
    "ax1.tick_params(axis=\"x\",direction=\"in\")\n",
    "\n",
    "ax1.fill_between(np.arange(0,thr2b+0.01,0.01),0.06*60, color='white',alpha=0.5, edgecolor=None)\n",
    "ax1.fill_between(np.arange(thr2b, thr1b+0.01,0.01),0.06*60, color='lightgrey',alpha=0.5, edgecolor=None)\n",
    "ax1.fill_between(np.arange(thr1b,1.01,0.01),0.06*60, color='darkgrey',alpha=0.5, edgecolor=None)\n",
    "\n",
    "F = np.linspace(0,1,1000)\n",
    "color1 = 'k'; \n",
    "color2 = 'goldenrod'; \n",
    "\n",
    "ax1.plot(F, k_raw(F, thr1b,thr2b,v1b,v2b,v3b)*60,linewidth=1.25,color=color1)\n",
    "ax1.set_xlabel('[N] (A.U.)')\n",
    "#ax1.set_ylabel('$v$ (/min)', color=color1)\n",
    "ax1.set_ylabel('Maximum growth rate v (h$^{-1}$)', color=color1)\n",
    "ax1.tick_params(axis='y', labelcolor=color1)\n",
    "ax1.set_ylim((0,0.06*60))\n",
    "ax1.set_xlim((0,1))\n",
    "\n",
    "'''\n",
    "ax2 = ax1.twinx()\n",
    "ax2.plot(F, k_raw(F, thr1b,thr2b,k1b,k2b,k3b),linewidth=1.25,color=color2)\n",
    "#plt.plot(F, k_sigmoidal(F, thr1b,thr2b,v1b,v2b,v3b,h),label='approximation (sigmoid)')\n",
    "ax2.set_xlabel('Relative food abundance')\n",
    "ax2.set_ylabel('Monod constant K (A.U.)', color=color2)\n",
    "ax2.tick_params(axis='y', labelcolor=color2)\n",
    "ax2.yaxis.set_major_locator(MultipleLocator(0.5))\n",
    "ax2.set_ylim((0,1.5))\n",
    "\n",
    "ax2.spines['top'].set_visible(False)\n",
    "#ax2.spines['right'].set_visible(False)\n",
    "ax2.tick_params(axis=\"y\",direction=\"in\")\n",
    "ax2.tick_params(axis=\"x\",direction=\"in\")\n",
    "'''\n",
    "plt.tight_layout()\n",
    "plt.savefig('../output/Sfig6c-right.pdf', format='pdf', bbox_inches='tight')"
   ]
  },
  {
   "cell_type": "code",
   "execution_count": 33,
   "metadata": {},
   "outputs": [
    {
     "name": "stdout",
     "output_type": "stream",
     "text": [
      "1.115296533781232\n"
     ]
    }
   ],
   "source": [
    "print(k_raw(F, thr1b,thr2b,v1b,v2b,v3b)[0]*60)"
   ]
  }
 ],
 "metadata": {
  "kernelspec": {
   "display_name": "Python 3",
   "language": "python",
   "name": "python3"
  },
  "language_info": {
   "codemirror_mode": {
    "name": "ipython",
    "version": 3
   },
   "file_extension": ".py",
   "mimetype": "text/x-python",
   "name": "python",
   "nbconvert_exporter": "python",
   "pygments_lexer": "ipython3",
   "version": "3.8.5"
  }
 },
 "nbformat": 4,
 "nbformat_minor": 4
}
